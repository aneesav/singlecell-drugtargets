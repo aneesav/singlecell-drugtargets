{
  "cells": [
    {
      "cell_type": "code",
      "execution_count": null,
      "metadata": {
        "colab": {
          "base_uri": "https://localhost:8080/"
        },
        "id": "CMMk2qnBJK19",
        "outputId": "afb6daae-7a1a-43b2-927a-c0000f551b20"
      },
      "outputs": [
        {
          "name": "stdout",
          "output_type": "stream",
          "text": [
            "Collecting scanpy\n",
            "  Downloading scanpy-1.10.4-py3-none-any.whl.metadata (9.3 kB)\n",
            "Requirement already satisfied: matplotlib in /usr/local/lib/python3.10/dist-packages (3.8.0)\n",
            "Collecting anndata>=0.8 (from scanpy)\n",
            "  Downloading anndata-0.11.3-py3-none-any.whl.metadata (8.2 kB)\n",
            "Requirement already satisfied: h5py>=3.6 in /usr/local/lib/python3.10/dist-packages (from scanpy) (3.12.1)\n",
            "Requirement already satisfied: joblib in /usr/local/lib/python3.10/dist-packages (from scanpy) (1.4.2)\n",
            "Collecting legacy-api-wrap>=1.4 (from scanpy)\n",
            "  Downloading legacy_api_wrap-1.4.1-py3-none-any.whl.metadata (2.1 kB)\n",
            "Requirement already satisfied: natsort in /usr/local/lib/python3.10/dist-packages (from scanpy) (8.4.0)\n",
            "Requirement already satisfied: networkx>=2.7 in /usr/local/lib/python3.10/dist-packages (from scanpy) (3.4.2)\n",
            "Requirement already satisfied: numba>=0.56 in /usr/local/lib/python3.10/dist-packages (from scanpy) (0.60.0)\n",
            "Requirement already satisfied: numpy>=1.23 in /usr/local/lib/python3.10/dist-packages (from scanpy) (1.26.4)\n",
            "Requirement already satisfied: packaging>=21.3 in /usr/local/lib/python3.10/dist-packages (from scanpy) (24.2)\n",
            "Requirement already satisfied: pandas>=1.5 in /usr/local/lib/python3.10/dist-packages (from scanpy) (2.2.2)\n",
            "Requirement already satisfied: patsy!=1.0.0 in /usr/local/lib/python3.10/dist-packages (from scanpy) (1.0.1)\n",
            "Collecting pynndescent>=0.5 (from scanpy)\n",
            "  Downloading pynndescent-0.5.13-py3-none-any.whl.metadata (6.8 kB)\n",
            "Requirement already satisfied: scikit-learn>=1.1 in /usr/local/lib/python3.10/dist-packages (from scanpy) (1.6.0)\n",
            "Requirement already satisfied: scipy>=1.8 in /usr/local/lib/python3.10/dist-packages (from scanpy) (1.13.1)\n",
            "Requirement already satisfied: seaborn>=0.13 in /usr/local/lib/python3.10/dist-packages (from scanpy) (0.13.2)\n",
            "Collecting session-info (from scanpy)\n",
            "  Downloading session_info-1.0.0.tar.gz (24 kB)\n",
            "  Preparing metadata (setup.py) ... \u001b[?25l\u001b[?25hdone\n",
            "Requirement already satisfied: statsmodels>=0.13 in /usr/local/lib/python3.10/dist-packages (from scanpy) (0.14.4)\n",
            "Requirement already satisfied: tqdm in /usr/local/lib/python3.10/dist-packages (from scanpy) (4.67.1)\n",
            "Collecting umap-learn!=0.5.0,>=0.5 (from scanpy)\n",
            "  Downloading umap_learn-0.5.7-py3-none-any.whl.metadata (21 kB)\n",
            "Requirement already satisfied: contourpy>=1.0.1 in /usr/local/lib/python3.10/dist-packages (from matplotlib) (1.3.1)\n",
            "Requirement already satisfied: cycler>=0.10 in /usr/local/lib/python3.10/dist-packages (from matplotlib) (0.12.1)\n",
            "Requirement already satisfied: fonttools>=4.22.0 in /usr/local/lib/python3.10/dist-packages (from matplotlib) (4.55.3)\n",
            "Requirement already satisfied: kiwisolver>=1.0.1 in /usr/local/lib/python3.10/dist-packages (from matplotlib) (1.4.7)\n",
            "Requirement already satisfied: pillow>=6.2.0 in /usr/local/lib/python3.10/dist-packages (from matplotlib) (11.0.0)\n",
            "Requirement already satisfied: pyparsing>=2.3.1 in /usr/local/lib/python3.10/dist-packages (from matplotlib) (3.2.0)\n",
            "Requirement already satisfied: python-dateutil>=2.7 in /usr/local/lib/python3.10/dist-packages (from matplotlib) (2.8.2)\n",
            "Collecting array-api-compat!=1.5,>1.4 (from anndata>=0.8->scanpy)\n",
            "  Downloading array_api_compat-1.10.0-py3-none-any.whl.metadata (1.6 kB)\n",
            "Requirement already satisfied: exceptiongroup in /usr/local/lib/python3.10/dist-packages (from anndata>=0.8->scanpy) (1.2.2)\n",
            "Requirement already satisfied: llvmlite<0.44,>=0.43.0dev0 in /usr/local/lib/python3.10/dist-packages (from numba>=0.56->scanpy) (0.43.0)\n",
            "Requirement already satisfied: pytz>=2020.1 in /usr/local/lib/python3.10/dist-packages (from pandas>=1.5->scanpy) (2024.2)\n",
            "Requirement already satisfied: tzdata>=2022.7 in /usr/local/lib/python3.10/dist-packages (from pandas>=1.5->scanpy) (2024.2)\n",
            "Requirement already satisfied: six>=1.5 in /usr/local/lib/python3.10/dist-packages (from python-dateutil>=2.7->matplotlib) (1.17.0)\n",
            "Requirement already satisfied: threadpoolctl>=3.1.0 in /usr/local/lib/python3.10/dist-packages (from scikit-learn>=1.1->scanpy) (3.5.0)\n",
            "Collecting stdlib_list (from session-info->scanpy)\n",
            "  Downloading stdlib_list-0.11.0-py3-none-any.whl.metadata (3.3 kB)\n",
            "Downloading scanpy-1.10.4-py3-none-any.whl (2.1 MB)\n",
            "\u001b[2K   \u001b[90m━━━━━━━━━━━━━━━━━━━━━━━━━━━━━━━━━━━━━━━━\u001b[0m \u001b[32m2.1/2.1 MB\u001b[0m \u001b[31m26.2 MB/s\u001b[0m eta \u001b[36m0:00:00\u001b[0m\n",
            "\u001b[?25hDownloading anndata-0.11.3-py3-none-any.whl (142 kB)\n",
            "\u001b[2K   \u001b[90m━━━━━━━━━━━━━━━━━━━━━━━━━━━━━━━━━━━━━━━━\u001b[0m \u001b[32m142.7/142.7 kB\u001b[0m \u001b[31m10.4 MB/s\u001b[0m eta \u001b[36m0:00:00\u001b[0m\n",
            "\u001b[?25hDownloading legacy_api_wrap-1.4.1-py3-none-any.whl (10.0 kB)\n",
            "Downloading pynndescent-0.5.13-py3-none-any.whl (56 kB)\n",
            "\u001b[2K   \u001b[90m━━━━━━━━━━━━━━━━━━━━━━━━━━━━━━━━━━━━━━━━\u001b[0m \u001b[32m56.9/56.9 kB\u001b[0m \u001b[31m3.9 MB/s\u001b[0m eta \u001b[36m0:00:00\u001b[0m\n",
            "\u001b[?25hDownloading umap_learn-0.5.7-py3-none-any.whl (88 kB)\n",
            "\u001b[2K   \u001b[90m━━━━━━━━━━━━━━━━━━━━━━━━━━━━━━━━━━━━━━━━\u001b[0m \u001b[32m88.8/88.8 kB\u001b[0m \u001b[31m6.2 MB/s\u001b[0m eta \u001b[36m0:00:00\u001b[0m\n",
            "\u001b[?25hDownloading array_api_compat-1.10.0-py3-none-any.whl (50 kB)\n",
            "\u001b[2K   \u001b[90m━━━━━━━━━━━━━━━━━━━━━━━━━━━━━━━━━━━━━━━━\u001b[0m \u001b[32m50.4/50.4 kB\u001b[0m \u001b[31m3.4 MB/s\u001b[0m eta \u001b[36m0:00:00\u001b[0m\n",
            "\u001b[?25hDownloading stdlib_list-0.11.0-py3-none-any.whl (83 kB)\n",
            "\u001b[2K   \u001b[90m━━━━━━━━━━━━━━━━━━━━━━━━━━━━━━━━━━━━━━━━\u001b[0m \u001b[32m83.6/83.6 kB\u001b[0m \u001b[31m5.6 MB/s\u001b[0m eta \u001b[36m0:00:00\u001b[0m\n",
            "\u001b[?25hBuilding wheels for collected packages: session-info\n",
            "  Building wheel for session-info (setup.py) ... \u001b[?25l\u001b[?25hdone\n",
            "  Created wheel for session-info: filename=session_info-1.0.0-py3-none-any.whl size=8023 sha256=1c715bb62a3c63234a75b3b6ca53d10db27115f9d787930e9941b0c852eea046\n",
            "  Stored in directory: /root/.cache/pip/wheels/6a/aa/b9/eb5d4031476ec10802795b97ccf937b9bd998d68a9b268765a\n",
            "Successfully built session-info\n",
            "Installing collected packages: stdlib_list, legacy-api-wrap, array-api-compat, session-info, pynndescent, anndata, umap-learn, scanpy\n",
            "Successfully installed anndata-0.11.3 array-api-compat-1.10.0 legacy-api-wrap-1.4.1 pynndescent-0.5.13 scanpy-1.10.4 session-info-1.0.0 stdlib_list-0.11.0 umap-learn-0.5.7\n",
            "Mounted at /content/drive\n"
          ]
        }
      ],
      "source": [
        "!pip install scanpy matplotlib\n",
        "\n",
        "\n",
        "import scanpy as sc\n",
        "import pandas as pd\n",
        "from google.colab import drive\n",
        "drive.mount('/content/drive')"
      ]
    },
    {
      "cell_type": "markdown",
      "metadata": {
        "id": "UC5qbIfglKDh"
      },
      "source": [
        "### Predicting drug targets from scRNA-seq data\n",
        "\n",
        "Environmental enteropathy (EE) is a subclinical condition of the small intestine that is highly prevalent in low- and middle-income countries.\n",
        "\n",
        "Although EE has been shown to be the by-product of a recurrent enteric infection, its full pathophysiology remains unclear. In [this](https://pubmed.ncbi.nlm.nih.gov/36044598/) paper, researchers mapped the cellular and molecular correlates of EE by performing high-throughput, single-cell RNA-sequencing on 33 small intestinal biopsies from 11 adults with EE in Lusaka, Zambia (eight HIV-negative and three HIV-positive), six adults without EE in Boston, United States, and two adults in Durban, South Africa.\n",
        "\n",
        "In this notebook, we will take their analyses a step further, and apply machine learning to single-cell genomics data to predict potential drug targets for EE.\n",
        "\n",
        "The workflow for this project is as follows:\n",
        "\n",
        "Single-cell Dataset:\n",
        "\n",
        "1. Ingest a single-cell RNA sequencing dataset.\n",
        "- Preprocess the data, focusing on feature selection (e.g., selecting highly variable genes)\n",
        "- Visualize gene expression clusters\n",
        "\n",
        "2. Drug Target Prediction:\n",
        "- Label data with druggable targets\n",
        "- Build supervised learning model to predict gene targets associated with drug efficacy\n",
        "- Focus on genes or pathways that are highly specific to certain cell types.\n",
        "\n",
        "3. Model Pipeline:\n",
        "- Design a reproducible pipeline incorporating dimensionality reduction, clustering, and model training."
      ]
    },
    {
      "cell_type": "code",
      "execution_count": null,
      "metadata": {
        "colab": {
          "background_save": true
        },
        "id": "rwz5uUukMatD"
      },
      "outputs": [],
      "source": [
        "# Load the CSV file into a DataFrame\n",
        "df = pd.read_csv('/content/drive/MyDrive/Genspace/SCP1307/expression/combined_durban_eoe_resection_no_sa_HIV_aug18_counts.csv', index_col=0)\n",
        "\n",
        "# Transpose the DataFrame to have cells as rows and genes as columns (compatible with AnnData)\n",
        "df = df.transpose()\n",
        "\n",
        "# Convert the DataFrame to an AnnData object\n",
        "adata = sc.AnnData(df)\n",
        "\n",
        "# Save the AnnData object to an .h5ad file\n",
        "adata.write(\"/content/drive/MyDrive/Genspace/SCP1307/large-files/counts_final.h5ad\")"
      ]
    },
    {
      "cell_type": "code",
      "execution_count": 3,
      "metadata": {
        "colab": {
          "base_uri": "https://localhost:8080/"
        },
        "id": "-09Vo95rMbq0",
        "outputId": "56af1944-0df6-4268-d778-f0e4a614dcb2"
      },
      "outputs": [
        {
          "output_type": "execute_result",
          "data": {
            "text/plain": [
              "AnnData object with n_obs × n_vars = 26556 × 21069"
            ]
          },
          "metadata": {},
          "execution_count": 3
        }
      ],
      "source": [
        "adata"
      ]
    },
    {
      "cell_type": "code",
      "execution_count": 4,
      "metadata": {
        "colab": {
          "base_uri": "https://localhost:8080/"
        },
        "id": "39OUtyXswVQe",
        "outputId": "e319d819-a96d-4dcf-85b1-3edfcd467fbc"
      },
      "outputs": [
        {
          "output_type": "stream",
          "name": "stdout",
          "text": [
            "                                            biosample_id     donor_id  \\\n",
            "NAME                                                                    \n",
            "GCTGTATCAATT_1_1_1_1_1_1_1_1_1_1_1_1_1_1_1  Resection_2D  Resection_2   \n",
            "GTCCGTCCCAAT_1_1_1_1_1_1_1_1_1_1_1_1_1_1_1  Resection_2D  Resection_2   \n",
            "CAAATCGATACT_1_1_1_1_1_1_1_1_1_1_1_1_1_1_1  Resection_2D  Resection_2   \n",
            "CGAAATCGACTA_1_1_1_1_1_1_1_1_1_1_1_1_1_1_1  Resection_2D  Resection_2   \n",
            "TAGCCTCGAATT_1_1_1_1_1_1_1_1_1_1_1_1_1_1_1  Resection_2D  Resection_2   \n",
            "\n",
            "                                                   species  \\\n",
            "NAME                                                         \n",
            "GCTGTATCAATT_1_1_1_1_1_1_1_1_1_1_1_1_1_1_1  NCBITaxon_9606   \n",
            "GTCCGTCCCAAT_1_1_1_1_1_1_1_1_1_1_1_1_1_1_1  NCBITaxon_9606   \n",
            "CAAATCGATACT_1_1_1_1_1_1_1_1_1_1_1_1_1_1_1  NCBITaxon_9606   \n",
            "CGAAATCGACTA_1_1_1_1_1_1_1_1_1_1_1_1_1_1_1  NCBITaxon_9606   \n",
            "TAGCCTCGAATT_1_1_1_1_1_1_1_1_1_1_1_1_1_1_1  NCBITaxon_9606   \n",
            "\n",
            "                                           species__ontology_label  \\\n",
            "NAME                                                                 \n",
            "GCTGTATCAATT_1_1_1_1_1_1_1_1_1_1_1_1_1_1_1            Homo sapiens   \n",
            "GTCCGTCCCAAT_1_1_1_1_1_1_1_1_1_1_1_1_1_1_1            Homo sapiens   \n",
            "CAAATCGATACT_1_1_1_1_1_1_1_1_1_1_1_1_1_1_1            Homo sapiens   \n",
            "CGAAATCGACTA_1_1_1_1_1_1_1_1_1_1_1_1_1_1_1            Homo sapiens   \n",
            "TAGCCTCGAATT_1_1_1_1_1_1_1_1_1_1_1_1_1_1_1            Homo sapiens   \n",
            "\n",
            "                                                  disease  \\\n",
            "NAME                                                        \n",
            "GCTGTATCAATT_1_1_1_1_1_1_1_1_1_1_1_1_1_1_1  MONDO_0004992   \n",
            "GTCCGTCCCAAT_1_1_1_1_1_1_1_1_1_1_1_1_1_1_1  MONDO_0004992   \n",
            "CAAATCGATACT_1_1_1_1_1_1_1_1_1_1_1_1_1_1_1  MONDO_0004992   \n",
            "CGAAATCGACTA_1_1_1_1_1_1_1_1_1_1_1_1_1_1_1  MONDO_0004992   \n",
            "TAGCCTCGAATT_1_1_1_1_1_1_1_1_1_1_1_1_1_1_1  MONDO_0004992   \n",
            "\n",
            "                                           disease__ontology_label  \\\n",
            "NAME                                                                 \n",
            "GCTGTATCAATT_1_1_1_1_1_1_1_1_1_1_1_1_1_1_1                  cancer   \n",
            "GTCCGTCCCAAT_1_1_1_1_1_1_1_1_1_1_1_1_1_1_1                  cancer   \n",
            "CAAATCGATACT_1_1_1_1_1_1_1_1_1_1_1_1_1_1_1                  cancer   \n",
            "CGAAATCGACTA_1_1_1_1_1_1_1_1_1_1_1_1_1_1_1                  cancer   \n",
            "TAGCCTCGAATT_1_1_1_1_1_1_1_1_1_1_1_1_1_1_1                  cancer   \n",
            "\n",
            "                                                     organ  \\\n",
            "NAME                                                         \n",
            "GCTGTATCAATT_1_1_1_1_1_1_1_1_1_1_1_1_1_1_1  UBERON_0003287   \n",
            "GTCCGTCCCAAT_1_1_1_1_1_1_1_1_1_1_1_1_1_1_1  UBERON_0003287   \n",
            "CAAATCGATACT_1_1_1_1_1_1_1_1_1_1_1_1_1_1_1  UBERON_0003287   \n",
            "CGAAATCGACTA_1_1_1_1_1_1_1_1_1_1_1_1_1_1_1  UBERON_0003287   \n",
            "TAGCCTCGAATT_1_1_1_1_1_1_1_1_1_1_1_1_1_1_1  UBERON_0003287   \n",
            "\n",
            "                                                organ__ontology_label  \\\n",
            "NAME                                                                    \n",
            "GCTGTATCAATT_1_1_1_1_1_1_1_1_1_1_1_1_1_1_1  midgut region of duodenum   \n",
            "GTCCGTCCCAAT_1_1_1_1_1_1_1_1_1_1_1_1_1_1_1  midgut region of duodenum   \n",
            "CAAATCGATACT_1_1_1_1_1_1_1_1_1_1_1_1_1_1_1  midgut region of duodenum   \n",
            "CGAAATCGACTA_1_1_1_1_1_1_1_1_1_1_1_1_1_1_1  midgut region of duodenum   \n",
            "TAGCCTCGAATT_1_1_1_1_1_1_1_1_1_1_1_1_1_1_1  midgut region of duodenum   \n",
            "\n",
            "                                           library_preparation_protocol  \\\n",
            "NAME                                                                      \n",
            "GCTGTATCAATT_1_1_1_1_1_1_1_1_1_1_1_1_1_1_1                  EFO_0008919   \n",
            "GTCCGTCCCAAT_1_1_1_1_1_1_1_1_1_1_1_1_1_1_1                  EFO_0008919   \n",
            "CAAATCGATACT_1_1_1_1_1_1_1_1_1_1_1_1_1_1_1                  EFO_0008919   \n",
            "CGAAATCGACTA_1_1_1_1_1_1_1_1_1_1_1_1_1_1_1                  EFO_0008919   \n",
            "TAGCCTCGAATT_1_1_1_1_1_1_1_1_1_1_1_1_1_1_1                  EFO_0008919   \n",
            "\n",
            "                                           library_preparation_protocol__ontology_label  \\\n",
            "NAME                                                                                      \n",
            "GCTGTATCAATT_1_1_1_1_1_1_1_1_1_1_1_1_1_1_1                                     Seq-Well   \n",
            "GTCCGTCCCAAT_1_1_1_1_1_1_1_1_1_1_1_1_1_1_1                                     Seq-Well   \n",
            "CAAATCGATACT_1_1_1_1_1_1_1_1_1_1_1_1_1_1_1                                     Seq-Well   \n",
            "CGAAATCGACTA_1_1_1_1_1_1_1_1_1_1_1_1_1_1_1                                     Seq-Well   \n",
            "TAGCCTCGAATT_1_1_1_1_1_1_1_1_1_1_1_1_1_1_1                                     Seq-Well   \n",
            "\n",
            "                                             sex            cell_subset  \n",
            "NAME                                                                     \n",
            "GCTGTATCAATT_1_1_1_1_1_1_1_1_1_1_1_1_1_1_1  male                   T_MT  \n",
            "GTCCGTCCCAAT_1_1_1_1_1_1_1_1_1_1_1_1_1_1_1  male              NK_GZMAhi  \n",
            "CAAATCGATACT_1_1_1_1_1_1_1_1_1_1_1_1_1_1_1  male  T_gamma_delta_CXCR4hi  \n",
            "CGAAATCGACTA_1_1_1_1_1_1_1_1_1_1_1_1_1_1_1  male   T_gamma_delta_GZMAhi  \n",
            "TAGCCTCGAATT_1_1_1_1_1_1_1_1_1_1_1_1_1_1_1  male              NK_GZMAhi  \n"
          ]
        }
      ],
      "source": [
        "metadata = pd.read_csv(\"/content/drive/MyDrive/Colab Notebooks/Genspace_data/SCP1307/metadata/sc_portal_meta_with_SA.csv\")\n",
        "# Ensure the indices are strings\n",
        "\n",
        "# Drop the first row\n",
        "metadata = metadata.drop(0)\n",
        "\n",
        "# Set the 'NAME' column as the index\n",
        "metadata.set_index('NAME', inplace=True)\n",
        "\n",
        "metadata.index = metadata.index.astype(str)\n",
        "\n",
        "print(metadata.head())"
      ]
    },
    {
      "cell_type": "code",
      "execution_count": 5,
      "metadata": {
        "colab": {
          "base_uri": "https://localhost:8080/"
        },
        "id": "gghpXOOhwe6e",
        "outputId": "4fc823e8-0d6d-40d7-d8c4-34bf8d5bfd52"
      },
      "outputs": [
        {
          "output_type": "execute_result",
          "data": {
            "text/plain": [
              "(26556, 12)"
            ]
          },
          "metadata": {},
          "execution_count": 5
        }
      ],
      "source": [
        "metadata.shape"
      ]
    },
    {
      "cell_type": "code",
      "execution_count": 6,
      "metadata": {
        "id": "H2qiYW60wjCW"
      },
      "outputs": [],
      "source": [
        "adata.obs = metadata"
      ]
    },
    {
      "cell_type": "code",
      "execution_count": 7,
      "metadata": {
        "colab": {
          "base_uri": "https://localhost:8080/"
        },
        "id": "4c7RAXJuwl7J",
        "outputId": "5c1be6a0-5f79-4338-b982-e482cc7d2a9e"
      },
      "outputs": [
        {
          "output_type": "execute_result",
          "data": {
            "text/plain": [
              "array([[ 0.,  0.,  0., ...,  0.,  0.,  0.],\n",
              "       [ 0.,  1.,  0., ...,  0.,  0.,  0.],\n",
              "       [ 0.,  0.,  0., ...,  0.,  0.,  0.],\n",
              "       ...,\n",
              "       [ 0.,  0.,  0., ...,  0.,  0., nan],\n",
              "       [ 0.,  0.,  0., ...,  0.,  0., nan],\n",
              "       [ 0.,  0.,  0., ...,  0.,  0., nan]])"
            ]
          },
          "metadata": {},
          "execution_count": 7
        }
      ],
      "source": [
        "adata.X"
      ]
    },
    {
      "cell_type": "code",
      "execution_count": 8,
      "metadata": {
        "colab": {
          "base_uri": "https://localhost:8080/",
          "height": 258
        },
        "id": "7PTppP4AwnTN",
        "outputId": "0b4fa780-8c01-471b-849d-d55aae173ec8"
      },
      "outputs": [
        {
          "output_type": "execute_result",
          "data": {
            "text/plain": [
              "                                            biosample_id     donor_id  \\\n",
              "NAME                                                                    \n",
              "GCTGTATCAATT_1_1_1_1_1_1_1_1_1_1_1_1_1_1_1  Resection_2D  Resection_2   \n",
              "GTCCGTCCCAAT_1_1_1_1_1_1_1_1_1_1_1_1_1_1_1  Resection_2D  Resection_2   \n",
              "CAAATCGATACT_1_1_1_1_1_1_1_1_1_1_1_1_1_1_1  Resection_2D  Resection_2   \n",
              "CGAAATCGACTA_1_1_1_1_1_1_1_1_1_1_1_1_1_1_1  Resection_2D  Resection_2   \n",
              "TAGCCTCGAATT_1_1_1_1_1_1_1_1_1_1_1_1_1_1_1  Resection_2D  Resection_2   \n",
              "\n",
              "                                                   species  \\\n",
              "NAME                                                         \n",
              "GCTGTATCAATT_1_1_1_1_1_1_1_1_1_1_1_1_1_1_1  NCBITaxon_9606   \n",
              "GTCCGTCCCAAT_1_1_1_1_1_1_1_1_1_1_1_1_1_1_1  NCBITaxon_9606   \n",
              "CAAATCGATACT_1_1_1_1_1_1_1_1_1_1_1_1_1_1_1  NCBITaxon_9606   \n",
              "CGAAATCGACTA_1_1_1_1_1_1_1_1_1_1_1_1_1_1_1  NCBITaxon_9606   \n",
              "TAGCCTCGAATT_1_1_1_1_1_1_1_1_1_1_1_1_1_1_1  NCBITaxon_9606   \n",
              "\n",
              "                                           species__ontology_label  \\\n",
              "NAME                                                                 \n",
              "GCTGTATCAATT_1_1_1_1_1_1_1_1_1_1_1_1_1_1_1            Homo sapiens   \n",
              "GTCCGTCCCAAT_1_1_1_1_1_1_1_1_1_1_1_1_1_1_1            Homo sapiens   \n",
              "CAAATCGATACT_1_1_1_1_1_1_1_1_1_1_1_1_1_1_1            Homo sapiens   \n",
              "CGAAATCGACTA_1_1_1_1_1_1_1_1_1_1_1_1_1_1_1            Homo sapiens   \n",
              "TAGCCTCGAATT_1_1_1_1_1_1_1_1_1_1_1_1_1_1_1            Homo sapiens   \n",
              "\n",
              "                                                  disease  \\\n",
              "NAME                                                        \n",
              "GCTGTATCAATT_1_1_1_1_1_1_1_1_1_1_1_1_1_1_1  MONDO_0004992   \n",
              "GTCCGTCCCAAT_1_1_1_1_1_1_1_1_1_1_1_1_1_1_1  MONDO_0004992   \n",
              "CAAATCGATACT_1_1_1_1_1_1_1_1_1_1_1_1_1_1_1  MONDO_0004992   \n",
              "CGAAATCGACTA_1_1_1_1_1_1_1_1_1_1_1_1_1_1_1  MONDO_0004992   \n",
              "TAGCCTCGAATT_1_1_1_1_1_1_1_1_1_1_1_1_1_1_1  MONDO_0004992   \n",
              "\n",
              "                                           disease__ontology_label  \\\n",
              "NAME                                                                 \n",
              "GCTGTATCAATT_1_1_1_1_1_1_1_1_1_1_1_1_1_1_1                  cancer   \n",
              "GTCCGTCCCAAT_1_1_1_1_1_1_1_1_1_1_1_1_1_1_1                  cancer   \n",
              "CAAATCGATACT_1_1_1_1_1_1_1_1_1_1_1_1_1_1_1                  cancer   \n",
              "CGAAATCGACTA_1_1_1_1_1_1_1_1_1_1_1_1_1_1_1                  cancer   \n",
              "TAGCCTCGAATT_1_1_1_1_1_1_1_1_1_1_1_1_1_1_1                  cancer   \n",
              "\n",
              "                                                     organ  \\\n",
              "NAME                                                         \n",
              "GCTGTATCAATT_1_1_1_1_1_1_1_1_1_1_1_1_1_1_1  UBERON_0003287   \n",
              "GTCCGTCCCAAT_1_1_1_1_1_1_1_1_1_1_1_1_1_1_1  UBERON_0003287   \n",
              "CAAATCGATACT_1_1_1_1_1_1_1_1_1_1_1_1_1_1_1  UBERON_0003287   \n",
              "CGAAATCGACTA_1_1_1_1_1_1_1_1_1_1_1_1_1_1_1  UBERON_0003287   \n",
              "TAGCCTCGAATT_1_1_1_1_1_1_1_1_1_1_1_1_1_1_1  UBERON_0003287   \n",
              "\n",
              "                                                organ__ontology_label  \\\n",
              "NAME                                                                    \n",
              "GCTGTATCAATT_1_1_1_1_1_1_1_1_1_1_1_1_1_1_1  midgut region of duodenum   \n",
              "GTCCGTCCCAAT_1_1_1_1_1_1_1_1_1_1_1_1_1_1_1  midgut region of duodenum   \n",
              "CAAATCGATACT_1_1_1_1_1_1_1_1_1_1_1_1_1_1_1  midgut region of duodenum   \n",
              "CGAAATCGACTA_1_1_1_1_1_1_1_1_1_1_1_1_1_1_1  midgut region of duodenum   \n",
              "TAGCCTCGAATT_1_1_1_1_1_1_1_1_1_1_1_1_1_1_1  midgut region of duodenum   \n",
              "\n",
              "                                           library_preparation_protocol  \\\n",
              "NAME                                                                      \n",
              "GCTGTATCAATT_1_1_1_1_1_1_1_1_1_1_1_1_1_1_1                  EFO_0008919   \n",
              "GTCCGTCCCAAT_1_1_1_1_1_1_1_1_1_1_1_1_1_1_1                  EFO_0008919   \n",
              "CAAATCGATACT_1_1_1_1_1_1_1_1_1_1_1_1_1_1_1                  EFO_0008919   \n",
              "CGAAATCGACTA_1_1_1_1_1_1_1_1_1_1_1_1_1_1_1                  EFO_0008919   \n",
              "TAGCCTCGAATT_1_1_1_1_1_1_1_1_1_1_1_1_1_1_1                  EFO_0008919   \n",
              "\n",
              "                                           library_preparation_protocol__ontology_label  \\\n",
              "NAME                                                                                      \n",
              "GCTGTATCAATT_1_1_1_1_1_1_1_1_1_1_1_1_1_1_1                                     Seq-Well   \n",
              "GTCCGTCCCAAT_1_1_1_1_1_1_1_1_1_1_1_1_1_1_1                                     Seq-Well   \n",
              "CAAATCGATACT_1_1_1_1_1_1_1_1_1_1_1_1_1_1_1                                     Seq-Well   \n",
              "CGAAATCGACTA_1_1_1_1_1_1_1_1_1_1_1_1_1_1_1                                     Seq-Well   \n",
              "TAGCCTCGAATT_1_1_1_1_1_1_1_1_1_1_1_1_1_1_1                                     Seq-Well   \n",
              "\n",
              "                                             sex            cell_subset  \n",
              "NAME                                                                     \n",
              "GCTGTATCAATT_1_1_1_1_1_1_1_1_1_1_1_1_1_1_1  male                   T_MT  \n",
              "GTCCGTCCCAAT_1_1_1_1_1_1_1_1_1_1_1_1_1_1_1  male              NK_GZMAhi  \n",
              "CAAATCGATACT_1_1_1_1_1_1_1_1_1_1_1_1_1_1_1  male  T_gamma_delta_CXCR4hi  \n",
              "CGAAATCGACTA_1_1_1_1_1_1_1_1_1_1_1_1_1_1_1  male   T_gamma_delta_GZMAhi  \n",
              "TAGCCTCGAATT_1_1_1_1_1_1_1_1_1_1_1_1_1_1_1  male              NK_GZMAhi  "
            ],
            "text/html": [
              "\n",
              "  <div id=\"df-a2348d43-84a2-47a1-b08f-12675b66fb07\" class=\"colab-df-container\">\n",
              "    <div>\n",
              "<style scoped>\n",
              "    .dataframe tbody tr th:only-of-type {\n",
              "        vertical-align: middle;\n",
              "    }\n",
              "\n",
              "    .dataframe tbody tr th {\n",
              "        vertical-align: top;\n",
              "    }\n",
              "\n",
              "    .dataframe thead th {\n",
              "        text-align: right;\n",
              "    }\n",
              "</style>\n",
              "<table border=\"1\" class=\"dataframe\">\n",
              "  <thead>\n",
              "    <tr style=\"text-align: right;\">\n",
              "      <th></th>\n",
              "      <th>biosample_id</th>\n",
              "      <th>donor_id</th>\n",
              "      <th>species</th>\n",
              "      <th>species__ontology_label</th>\n",
              "      <th>disease</th>\n",
              "      <th>disease__ontology_label</th>\n",
              "      <th>organ</th>\n",
              "      <th>organ__ontology_label</th>\n",
              "      <th>library_preparation_protocol</th>\n",
              "      <th>library_preparation_protocol__ontology_label</th>\n",
              "      <th>sex</th>\n",
              "      <th>cell_subset</th>\n",
              "    </tr>\n",
              "    <tr>\n",
              "      <th>NAME</th>\n",
              "      <th></th>\n",
              "      <th></th>\n",
              "      <th></th>\n",
              "      <th></th>\n",
              "      <th></th>\n",
              "      <th></th>\n",
              "      <th></th>\n",
              "      <th></th>\n",
              "      <th></th>\n",
              "      <th></th>\n",
              "      <th></th>\n",
              "      <th></th>\n",
              "    </tr>\n",
              "  </thead>\n",
              "  <tbody>\n",
              "    <tr>\n",
              "      <th>GCTGTATCAATT_1_1_1_1_1_1_1_1_1_1_1_1_1_1_1</th>\n",
              "      <td>Resection_2D</td>\n",
              "      <td>Resection_2</td>\n",
              "      <td>NCBITaxon_9606</td>\n",
              "      <td>Homo sapiens</td>\n",
              "      <td>MONDO_0004992</td>\n",
              "      <td>cancer</td>\n",
              "      <td>UBERON_0003287</td>\n",
              "      <td>midgut region of duodenum</td>\n",
              "      <td>EFO_0008919</td>\n",
              "      <td>Seq-Well</td>\n",
              "      <td>male</td>\n",
              "      <td>T_MT</td>\n",
              "    </tr>\n",
              "    <tr>\n",
              "      <th>GTCCGTCCCAAT_1_1_1_1_1_1_1_1_1_1_1_1_1_1_1</th>\n",
              "      <td>Resection_2D</td>\n",
              "      <td>Resection_2</td>\n",
              "      <td>NCBITaxon_9606</td>\n",
              "      <td>Homo sapiens</td>\n",
              "      <td>MONDO_0004992</td>\n",
              "      <td>cancer</td>\n",
              "      <td>UBERON_0003287</td>\n",
              "      <td>midgut region of duodenum</td>\n",
              "      <td>EFO_0008919</td>\n",
              "      <td>Seq-Well</td>\n",
              "      <td>male</td>\n",
              "      <td>NK_GZMAhi</td>\n",
              "    </tr>\n",
              "    <tr>\n",
              "      <th>CAAATCGATACT_1_1_1_1_1_1_1_1_1_1_1_1_1_1_1</th>\n",
              "      <td>Resection_2D</td>\n",
              "      <td>Resection_2</td>\n",
              "      <td>NCBITaxon_9606</td>\n",
              "      <td>Homo sapiens</td>\n",
              "      <td>MONDO_0004992</td>\n",
              "      <td>cancer</td>\n",
              "      <td>UBERON_0003287</td>\n",
              "      <td>midgut region of duodenum</td>\n",
              "      <td>EFO_0008919</td>\n",
              "      <td>Seq-Well</td>\n",
              "      <td>male</td>\n",
              "      <td>T_gamma_delta_CXCR4hi</td>\n",
              "    </tr>\n",
              "    <tr>\n",
              "      <th>CGAAATCGACTA_1_1_1_1_1_1_1_1_1_1_1_1_1_1_1</th>\n",
              "      <td>Resection_2D</td>\n",
              "      <td>Resection_2</td>\n",
              "      <td>NCBITaxon_9606</td>\n",
              "      <td>Homo sapiens</td>\n",
              "      <td>MONDO_0004992</td>\n",
              "      <td>cancer</td>\n",
              "      <td>UBERON_0003287</td>\n",
              "      <td>midgut region of duodenum</td>\n",
              "      <td>EFO_0008919</td>\n",
              "      <td>Seq-Well</td>\n",
              "      <td>male</td>\n",
              "      <td>T_gamma_delta_GZMAhi</td>\n",
              "    </tr>\n",
              "    <tr>\n",
              "      <th>TAGCCTCGAATT_1_1_1_1_1_1_1_1_1_1_1_1_1_1_1</th>\n",
              "      <td>Resection_2D</td>\n",
              "      <td>Resection_2</td>\n",
              "      <td>NCBITaxon_9606</td>\n",
              "      <td>Homo sapiens</td>\n",
              "      <td>MONDO_0004992</td>\n",
              "      <td>cancer</td>\n",
              "      <td>UBERON_0003287</td>\n",
              "      <td>midgut region of duodenum</td>\n",
              "      <td>EFO_0008919</td>\n",
              "      <td>Seq-Well</td>\n",
              "      <td>male</td>\n",
              "      <td>NK_GZMAhi</td>\n",
              "    </tr>\n",
              "  </tbody>\n",
              "</table>\n",
              "</div>\n",
              "    <div class=\"colab-df-buttons\">\n",
              "\n",
              "  <div class=\"colab-df-container\">\n",
              "    <button class=\"colab-df-convert\" onclick=\"convertToInteractive('df-a2348d43-84a2-47a1-b08f-12675b66fb07')\"\n",
              "            title=\"Convert this dataframe to an interactive table.\"\n",
              "            style=\"display:none;\">\n",
              "\n",
              "  <svg xmlns=\"http://www.w3.org/2000/svg\" height=\"24px\" viewBox=\"0 -960 960 960\">\n",
              "    <path d=\"M120-120v-720h720v720H120Zm60-500h600v-160H180v160Zm220 220h160v-160H400v160Zm0 220h160v-160H400v160ZM180-400h160v-160H180v160Zm440 0h160v-160H620v160ZM180-180h160v-160H180v160Zm440 0h160v-160H620v160Z\"/>\n",
              "  </svg>\n",
              "    </button>\n",
              "\n",
              "  <style>\n",
              "    .colab-df-container {\n",
              "      display:flex;\n",
              "      gap: 12px;\n",
              "    }\n",
              "\n",
              "    .colab-df-convert {\n",
              "      background-color: #E8F0FE;\n",
              "      border: none;\n",
              "      border-radius: 50%;\n",
              "      cursor: pointer;\n",
              "      display: none;\n",
              "      fill: #1967D2;\n",
              "      height: 32px;\n",
              "      padding: 0 0 0 0;\n",
              "      width: 32px;\n",
              "    }\n",
              "\n",
              "    .colab-df-convert:hover {\n",
              "      background-color: #E2EBFA;\n",
              "      box-shadow: 0px 1px 2px rgba(60, 64, 67, 0.3), 0px 1px 3px 1px rgba(60, 64, 67, 0.15);\n",
              "      fill: #174EA6;\n",
              "    }\n",
              "\n",
              "    .colab-df-buttons div {\n",
              "      margin-bottom: 4px;\n",
              "    }\n",
              "\n",
              "    [theme=dark] .colab-df-convert {\n",
              "      background-color: #3B4455;\n",
              "      fill: #D2E3FC;\n",
              "    }\n",
              "\n",
              "    [theme=dark] .colab-df-convert:hover {\n",
              "      background-color: #434B5C;\n",
              "      box-shadow: 0px 1px 3px 1px rgba(0, 0, 0, 0.15);\n",
              "      filter: drop-shadow(0px 1px 2px rgba(0, 0, 0, 0.3));\n",
              "      fill: #FFFFFF;\n",
              "    }\n",
              "  </style>\n",
              "\n",
              "    <script>\n",
              "      const buttonEl =\n",
              "        document.querySelector('#df-a2348d43-84a2-47a1-b08f-12675b66fb07 button.colab-df-convert');\n",
              "      buttonEl.style.display =\n",
              "        google.colab.kernel.accessAllowed ? 'block' : 'none';\n",
              "\n",
              "      async function convertToInteractive(key) {\n",
              "        const element = document.querySelector('#df-a2348d43-84a2-47a1-b08f-12675b66fb07');\n",
              "        const dataTable =\n",
              "          await google.colab.kernel.invokeFunction('convertToInteractive',\n",
              "                                                    [key], {});\n",
              "        if (!dataTable) return;\n",
              "\n",
              "        const docLinkHtml = 'Like what you see? Visit the ' +\n",
              "          '<a target=\"_blank\" href=https://colab.research.google.com/notebooks/data_table.ipynb>data table notebook</a>'\n",
              "          + ' to learn more about interactive tables.';\n",
              "        element.innerHTML = '';\n",
              "        dataTable['output_type'] = 'display_data';\n",
              "        await google.colab.output.renderOutput(dataTable, element);\n",
              "        const docLink = document.createElement('div');\n",
              "        docLink.innerHTML = docLinkHtml;\n",
              "        element.appendChild(docLink);\n",
              "      }\n",
              "    </script>\n",
              "  </div>\n",
              "\n",
              "\n",
              "<div id=\"df-6295d26a-df15-4a9e-8a64-dccb45c9296c\">\n",
              "  <button class=\"colab-df-quickchart\" onclick=\"quickchart('df-6295d26a-df15-4a9e-8a64-dccb45c9296c')\"\n",
              "            title=\"Suggest charts\"\n",
              "            style=\"display:none;\">\n",
              "\n",
              "<svg xmlns=\"http://www.w3.org/2000/svg\" height=\"24px\"viewBox=\"0 0 24 24\"\n",
              "     width=\"24px\">\n",
              "    <g>\n",
              "        <path d=\"M19 3H5c-1.1 0-2 .9-2 2v14c0 1.1.9 2 2 2h14c1.1 0 2-.9 2-2V5c0-1.1-.9-2-2-2zM9 17H7v-7h2v7zm4 0h-2V7h2v10zm4 0h-2v-4h2v4z\"/>\n",
              "    </g>\n",
              "</svg>\n",
              "  </button>\n",
              "\n",
              "<style>\n",
              "  .colab-df-quickchart {\n",
              "      --bg-color: #E8F0FE;\n",
              "      --fill-color: #1967D2;\n",
              "      --hover-bg-color: #E2EBFA;\n",
              "      --hover-fill-color: #174EA6;\n",
              "      --disabled-fill-color: #AAA;\n",
              "      --disabled-bg-color: #DDD;\n",
              "  }\n",
              "\n",
              "  [theme=dark] .colab-df-quickchart {\n",
              "      --bg-color: #3B4455;\n",
              "      --fill-color: #D2E3FC;\n",
              "      --hover-bg-color: #434B5C;\n",
              "      --hover-fill-color: #FFFFFF;\n",
              "      --disabled-bg-color: #3B4455;\n",
              "      --disabled-fill-color: #666;\n",
              "  }\n",
              "\n",
              "  .colab-df-quickchart {\n",
              "    background-color: var(--bg-color);\n",
              "    border: none;\n",
              "    border-radius: 50%;\n",
              "    cursor: pointer;\n",
              "    display: none;\n",
              "    fill: var(--fill-color);\n",
              "    height: 32px;\n",
              "    padding: 0;\n",
              "    width: 32px;\n",
              "  }\n",
              "\n",
              "  .colab-df-quickchart:hover {\n",
              "    background-color: var(--hover-bg-color);\n",
              "    box-shadow: 0 1px 2px rgba(60, 64, 67, 0.3), 0 1px 3px 1px rgba(60, 64, 67, 0.15);\n",
              "    fill: var(--button-hover-fill-color);\n",
              "  }\n",
              "\n",
              "  .colab-df-quickchart-complete:disabled,\n",
              "  .colab-df-quickchart-complete:disabled:hover {\n",
              "    background-color: var(--disabled-bg-color);\n",
              "    fill: var(--disabled-fill-color);\n",
              "    box-shadow: none;\n",
              "  }\n",
              "\n",
              "  .colab-df-spinner {\n",
              "    border: 2px solid var(--fill-color);\n",
              "    border-color: transparent;\n",
              "    border-bottom-color: var(--fill-color);\n",
              "    animation:\n",
              "      spin 1s steps(1) infinite;\n",
              "  }\n",
              "\n",
              "  @keyframes spin {\n",
              "    0% {\n",
              "      border-color: transparent;\n",
              "      border-bottom-color: var(--fill-color);\n",
              "      border-left-color: var(--fill-color);\n",
              "    }\n",
              "    20% {\n",
              "      border-color: transparent;\n",
              "      border-left-color: var(--fill-color);\n",
              "      border-top-color: var(--fill-color);\n",
              "    }\n",
              "    30% {\n",
              "      border-color: transparent;\n",
              "      border-left-color: var(--fill-color);\n",
              "      border-top-color: var(--fill-color);\n",
              "      border-right-color: var(--fill-color);\n",
              "    }\n",
              "    40% {\n",
              "      border-color: transparent;\n",
              "      border-right-color: var(--fill-color);\n",
              "      border-top-color: var(--fill-color);\n",
              "    }\n",
              "    60% {\n",
              "      border-color: transparent;\n",
              "      border-right-color: var(--fill-color);\n",
              "    }\n",
              "    80% {\n",
              "      border-color: transparent;\n",
              "      border-right-color: var(--fill-color);\n",
              "      border-bottom-color: var(--fill-color);\n",
              "    }\n",
              "    90% {\n",
              "      border-color: transparent;\n",
              "      border-bottom-color: var(--fill-color);\n",
              "    }\n",
              "  }\n",
              "</style>\n",
              "\n",
              "  <script>\n",
              "    async function quickchart(key) {\n",
              "      const quickchartButtonEl =\n",
              "        document.querySelector('#' + key + ' button');\n",
              "      quickchartButtonEl.disabled = true;  // To prevent multiple clicks.\n",
              "      quickchartButtonEl.classList.add('colab-df-spinner');\n",
              "      try {\n",
              "        const charts = await google.colab.kernel.invokeFunction(\n",
              "            'suggestCharts', [key], {});\n",
              "      } catch (error) {\n",
              "        console.error('Error during call to suggestCharts:', error);\n",
              "      }\n",
              "      quickchartButtonEl.classList.remove('colab-df-spinner');\n",
              "      quickchartButtonEl.classList.add('colab-df-quickchart-complete');\n",
              "    }\n",
              "    (() => {\n",
              "      let quickchartButtonEl =\n",
              "        document.querySelector('#df-6295d26a-df15-4a9e-8a64-dccb45c9296c button');\n",
              "      quickchartButtonEl.style.display =\n",
              "        google.colab.kernel.accessAllowed ? 'block' : 'none';\n",
              "    })();\n",
              "  </script>\n",
              "</div>\n",
              "\n",
              "    </div>\n",
              "  </div>\n"
            ],
            "application/vnd.google.colaboratory.intrinsic+json": {
              "type": "dataframe",
              "summary": "{\n  \"name\": \"adata\",\n  \"rows\": 5,\n  \"fields\": [\n    {\n      \"column\": \"NAME\",\n      \"properties\": {\n        \"dtype\": \"string\",\n        \"num_unique_values\": 5,\n        \"samples\": [\n          \"GTCCGTCCCAAT_1_1_1_1_1_1_1_1_1_1_1_1_1_1_1\",\n          \"TAGCCTCGAATT_1_1_1_1_1_1_1_1_1_1_1_1_1_1_1\",\n          \"CAAATCGATACT_1_1_1_1_1_1_1_1_1_1_1_1_1_1_1\"\n        ],\n        \"semantic_type\": \"\",\n        \"description\": \"\"\n      }\n    },\n    {\n      \"column\": \"biosample_id\",\n      \"properties\": {\n        \"dtype\": \"category\",\n        \"num_unique_values\": 1,\n        \"samples\": [\n          \"Resection_2D\"\n        ],\n        \"semantic_type\": \"\",\n        \"description\": \"\"\n      }\n    },\n    {\n      \"column\": \"donor_id\",\n      \"properties\": {\n        \"dtype\": \"category\",\n        \"num_unique_values\": 1,\n        \"samples\": [\n          \"Resection_2\"\n        ],\n        \"semantic_type\": \"\",\n        \"description\": \"\"\n      }\n    },\n    {\n      \"column\": \"species\",\n      \"properties\": {\n        \"dtype\": \"category\",\n        \"num_unique_values\": 1,\n        \"samples\": [\n          \"NCBITaxon_9606\"\n        ],\n        \"semantic_type\": \"\",\n        \"description\": \"\"\n      }\n    },\n    {\n      \"column\": \"species__ontology_label\",\n      \"properties\": {\n        \"dtype\": \"category\",\n        \"num_unique_values\": 1,\n        \"samples\": [\n          \"Homo sapiens\"\n        ],\n        \"semantic_type\": \"\",\n        \"description\": \"\"\n      }\n    },\n    {\n      \"column\": \"disease\",\n      \"properties\": {\n        \"dtype\": \"category\",\n        \"num_unique_values\": 1,\n        \"samples\": [\n          \"MONDO_0004992\"\n        ],\n        \"semantic_type\": \"\",\n        \"description\": \"\"\n      }\n    },\n    {\n      \"column\": \"disease__ontology_label\",\n      \"properties\": {\n        \"dtype\": \"category\",\n        \"num_unique_values\": 1,\n        \"samples\": [\n          \"cancer\"\n        ],\n        \"semantic_type\": \"\",\n        \"description\": \"\"\n      }\n    },\n    {\n      \"column\": \"organ\",\n      \"properties\": {\n        \"dtype\": \"category\",\n        \"num_unique_values\": 1,\n        \"samples\": [\n          \"UBERON_0003287\"\n        ],\n        \"semantic_type\": \"\",\n        \"description\": \"\"\n      }\n    },\n    {\n      \"column\": \"organ__ontology_label\",\n      \"properties\": {\n        \"dtype\": \"category\",\n        \"num_unique_values\": 1,\n        \"samples\": [\n          \"midgut region of duodenum\"\n        ],\n        \"semantic_type\": \"\",\n        \"description\": \"\"\n      }\n    },\n    {\n      \"column\": \"library_preparation_protocol\",\n      \"properties\": {\n        \"dtype\": \"category\",\n        \"num_unique_values\": 1,\n        \"samples\": [\n          \"EFO_0008919\"\n        ],\n        \"semantic_type\": \"\",\n        \"description\": \"\"\n      }\n    },\n    {\n      \"column\": \"library_preparation_protocol__ontology_label\",\n      \"properties\": {\n        \"dtype\": \"category\",\n        \"num_unique_values\": 1,\n        \"samples\": [\n          \"Seq-Well\"\n        ],\n        \"semantic_type\": \"\",\n        \"description\": \"\"\n      }\n    },\n    {\n      \"column\": \"sex\",\n      \"properties\": {\n        \"dtype\": \"category\",\n        \"num_unique_values\": 1,\n        \"samples\": [\n          \"male\"\n        ],\n        \"semantic_type\": \"\",\n        \"description\": \"\"\n      }\n    },\n    {\n      \"column\": \"cell_subset\",\n      \"properties\": {\n        \"dtype\": \"string\",\n        \"num_unique_values\": 4,\n        \"samples\": [\n          \"NK_GZMAhi\"\n        ],\n        \"semantic_type\": \"\",\n        \"description\": \"\"\n      }\n    }\n  ]\n}"
            }
          },
          "metadata": {},
          "execution_count": 8
        }
      ],
      "source": [
        "adata.obs.head()"
      ]
    },
    {
      "cell_type": "code",
      "execution_count": 13,
      "metadata": {
        "id": "atJ5ocdthkNA",
        "colab": {
          "base_uri": "https://localhost:8080/"
        },
        "outputId": "a6bd629f-a66f-40eb-e5ff-e19d6eeb7738"
      },
      "outputs": [
        {
          "output_type": "stream",
          "name": "stdout",
          "text": [
            "biosample_id\n",
            "EE_8J              1116\n",
            "EE_HIV_2D          1103\n",
            "EE_4B              1033\n",
            "EE_HIV_2B           985\n",
            "EE_6J               947\n",
            "EE_2B               925\n",
            "EE_5D               908\n",
            "Durban_4D           818\n",
            "South_Africa_2D     806\n",
            "Resection_3D        796\n",
            "EE_6D               789\n",
            "EoE_3D              778\n",
            "EE_1B               765\n",
            "EE_HIV_3D           762\n",
            "EE_7D               744\n",
            "EE_8B               734\n",
            "EE_1D               722\n",
            "EE_HIV_1J           713\n",
            "EoE_2D              710\n",
            "EE_HIV_3J           701\n",
            "EE_3B               700\n",
            "EE_4D               689\n",
            "EE_7B               678\n",
            "EE_HIV_1D           644\n",
            "EE_8D               640\n",
            "Resection_1D        631\n",
            "EE_HIV_3B           600\n",
            "EE_HIV_1B           598\n",
            "EE_2D               570\n",
            "South_Africa_1D     515\n",
            "EE_5B               508\n",
            "EE_6B               501\n",
            "Resection_2D        462\n",
            "EE_3D               452\n",
            "South_Africa_3D     444\n",
            "Durban_5D           428\n",
            "EE_7J               361\n",
            "EoE_1D              280\n",
            "Name: count, dtype: int64\n"
          ]
        }
      ],
      "source": [
        "# Print list of unique values in disease__ontology_label col (use these for ml)\n",
        "sample_counts = adata.obs['biosample_id'].value_counts()\n",
        "print(sample_counts)"
      ]
    },
    {
      "cell_type": "markdown",
      "source": [
        "We can consider \"EE_\" samples as the disease group, and \"Durban_\", \"Resection_\", \"EoE_\" and \"South_Africa_\" as healthy cohorts."
      ],
      "metadata": {
        "id": "VtrPwQqMl8f-"
      }
    },
    {
      "cell_type": "code",
      "source": [
        "# Add condition labels to adata.obs based on biosample_id\n",
        "adata.obs['condition'] = adata.obs['biosample_id'].apply(lambda x: 'disease' if x.startswith('EE_') else 'healthy')\n",
        "\n",
        "# Verify the distribution of conditions\n",
        "print(adata.obs['condition'].value_counts())"
      ],
      "metadata": {
        "colab": {
          "base_uri": "https://localhost:8080/"
        },
        "id": "AEBdhjxnnS38",
        "outputId": "3fd009b2-fdac-4969-96fb-0ebe8a7883a6"
      },
      "execution_count": 19,
      "outputs": [
        {
          "output_type": "stream",
          "name": "stdout",
          "text": [
            "condition\n",
            "disease    19888\n",
            "healthy     6668\n",
            "Name: count, dtype: int64\n"
          ]
        }
      ]
    },
    {
      "cell_type": "markdown",
      "source": [
        "Note that the disease group greatly outnumbers the healthy group, allowing for bias in the DEG analysis. In an ideal situation, we would adjust for uneven data distribution and mitigate this bias by downsampling the disease group."
      ],
      "metadata": {
        "id": "020Z-WYRvWqP"
      }
    },
    {
      "cell_type": "code",
      "execution_count": 20,
      "metadata": {
        "colab": {
          "base_uri": "https://localhost:8080/"
        },
        "id": "fJSuNAQwwp_7",
        "outputId": "c5394fde-860b-4ca9-cf84-1440180b844c"
      },
      "outputs": [
        {
          "output_type": "execute_result",
          "data": {
            "text/plain": [
              "Index(['A1BG', 'A1BG-AS1', 'A1CF', 'A2M', 'A2M-AS1', 'A2ML1', 'A4GALT', 'AAAS',\n",
              "       'AACS', 'AADAC',\n",
              "       ...\n",
              "       'TRO', 'TROAP', 'TROVE2', 'TRPA1', 'TRPC1', 'TRPC4', 'TRPC4AP', 'TRPC6',\n",
              "       'TRPC7', 'TRPC7-AS1'],\n",
              "      dtype='object', length=21069)"
            ]
          },
          "metadata": {},
          "execution_count": 20
        }
      ],
      "source": [
        "adata.var_names"
      ]
    },
    {
      "cell_type": "code",
      "source": [
        "sc.pl.highest_expr_genes(adata, n_top=20)"
      ],
      "metadata": {
        "colab": {
          "base_uri": "https://localhost:8080/",
          "height": 559
        },
        "id": "FwJOvBmIzDts",
        "outputId": "a0b664fe-e33b-4c5e-b729-2c5e6126a9b1"
      },
      "execution_count": 46,
      "outputs": [
        {
          "output_type": "stream",
          "name": "stderr",
          "text": [
            "/usr/local/lib/python3.10/dist-packages/scanpy/preprocessing/_normalization.py:234: UserWarning: Some cells have zero counts\n",
            "  warn(UserWarning(\"Some cells have zero counts\"))\n"
          ]
        },
        {
          "output_type": "display_data",
          "data": {
            "text/plain": [
              "<Figure size 500x550 with 1 Axes>"
            ],
            "image/png": "[encoded data removed]"
          },
          "metadata": {}
        }
      ]
    },
    {
      "cell_type": "code",
      "execution_count": 21,
      "metadata": {
        "id": "7d2IaVwOwrpJ"
      },
      "outputs": [],
      "source": [
        "adata_raw = adata.copy()"
      ]
    },
    {
      "cell_type": "code",
      "execution_count": null,
      "metadata": {
        "colab": {
          "base_uri": "https://localhost:8080/"
        },
        "id": "WForRvTCwuKO",
        "outputId": "0288d322-5d70-4f4a-d459-a0afe5c0680d"
      },
      "outputs": [
        {
          "name": "stdout",
          "output_type": "stream",
          "text": [
            "organ__ontology_label\n",
            "midgut region of duodenum     14691\n",
            "foregut region of duodenum     8027\n",
            "jejunum                        3838\n",
            "Name: count, dtype: int64\n"
          ]
        }
      ],
      "source": [
        "# Count the number of cells for each value in the 'organ_ontology_label' column\n",
        "cell_counts = adata.obs['organ__ontology_label'].value_counts()\n",
        "print(cell_counts)"
      ]
    },
    {
      "cell_type": "code",
      "execution_count": 22,
      "metadata": {
        "colab": {
          "base_uri": "https://localhost:8080/",
          "height": 411
        },
        "id": "H43qeA85w0Xh",
        "outputId": "24c6495d-cb48-411e-da48-bb11a80b1753"
      },
      "outputs": [
        {
          "output_type": "display_data",
          "data": {
            "text/plain": [
              "<Figure size 804.6x480 with 1 Axes>"
            ],
            "image/png": "[encoded data removed]"
          },
          "metadata": {}
        }
      ],
      "source": [
        "# Boolean mitochondrial gene identification\n",
        "adata.var['mt'] = adata.var_names.str.startswith('MT-')\n",
        "\n",
        "# Calculate QC metrics\n",
        "sc.pp.calculate_qc_metrics(adata, qc_vars=['mt'], percent_top=None, log1p=False, inplace=True)\n",
        "\n",
        "# Visualize detected counts, total expression and % of mitochondrial genes per cell\n",
        "sc.pl.violin(adata, ['n_genes_by_counts', 'total_counts', 'pct_counts_mt'], jitter=0.5)"
      ]
    },
    {
      "cell_type": "markdown",
      "metadata": {
        "id": "e4woR4YKxI30"
      },
      "source": [
        "Note:\n",
        "- `n_genes_by_counts` =  number of genes with at least 1 count in a cell, calculated for all cells\n",
        "- `total_counts` = sum of counts for a gene\n",
        "- `pct_counts_mt` = proportion of total counts for a cell which are mitochondrial\n",
        "\n",
        "The distribution of both `n_genes_by_counts` and `total_counts` is similar, at different scales. The former demonstrates unique genes being expressed/cell, while the later demonstrates total gene counts/cell."
      ]
    },
    {
      "cell_type": "code",
      "execution_count": 23,
      "metadata": {
        "id": "Lx7vsE4vxaDE"
      },
      "outputs": [],
      "source": [
        "# Filter cells\n",
        "adata_filtered = adata[adata.obs.n_genes_by_counts > 250, :]\n",
        "adata_filtered = adata[adata.obs.total_counts <= 50000, :]\n",
        "adata_filtered = adata[adata.obs.pct_counts_mt < 50, :] # Keeping % mito super generous"
      ]
    },
    {
      "cell_type": "code",
      "execution_count": 24,
      "metadata": {
        "colab": {
          "base_uri": "https://localhost:8080/"
        },
        "id": "MIS5Hs4NxcBk",
        "outputId": "b364c777-c1af-4193-d8a3-52f73b5aa6be"
      },
      "outputs": [
        {
          "output_type": "stream",
          "name": "stdout",
          "text": [
            "organ__ontology_label\n",
            "midgut region of duodenum     4608\n",
            "foregut region of duodenum    4215\n",
            "jejunum                       2213\n",
            "Name: count, dtype: int64\n"
          ]
        }
      ],
      "source": [
        "cell_counts_filtered = adata_filtered.obs['organ__ontology_label'].value_counts()\n",
        "print(cell_counts_filtered)"
      ]
    },
    {
      "cell_type": "code",
      "source": [
        "sc.pl.highest_expr_genes(adata_filtered, n_top=20)\n"
      ],
      "metadata": {
        "colab": {
          "base_uri": "https://localhost:8080/",
          "height": 503
        },
        "id": "48EbG01BzTWW",
        "outputId": "065b2453-3567-4bf1-d3bc-bde31ce8cc6a"
      },
      "execution_count": 47,
      "outputs": [
        {
          "output_type": "display_data",
          "data": {
            "text/plain": [
              "<Figure size 500x550 with 1 Axes>"
            ],
            "image/png": "[encoded data removed]"
          },
          "metadata": {}
        }
      ]
    },
    {
      "cell_type": "code",
      "execution_count": 25,
      "metadata": {
        "colab": {
          "base_uri": "https://localhost:8080/"
        },
        "id": "xLAHBA8KxEnN",
        "outputId": "88b7404a-f3c3-4084-eed3-96724c9e85f7"
      },
      "outputs": [
        {
          "output_type": "stream",
          "name": "stderr",
          "text": [
            "/usr/local/lib/python3.10/dist-packages/scanpy/preprocessing/_normalization.py:207: UserWarning: Received a view of an AnnData. Making a copy.\n",
            "  view_to_actual(adata)\n"
          ]
        }
      ],
      "source": [
        "# Normalize total counts and log transform\n",
        "sc.pp.normalize_total(adata_filtered, target_sum=1e4)\n",
        "sc.pp.log1p(adata_filtered)"
      ]
    },
    {
      "cell_type": "code",
      "source": [
        "# Perform differential expression analysis\n",
        "sc.tl.rank_genes_groups(adata_filtered, groupby='condition', method='wilcoxon')\n",
        "\n",
        "# Plot top DEGs\n",
        "sc.pl.rank_genes_groups(adata_filtered, n_genes=20, sharey=False)"
      ],
      "metadata": {
        "colab": {
          "base_uri": "https://localhost:8080/",
          "height": 368
        },
        "id": "XVGAV5pRpOYY",
        "outputId": "f3833a9a-d7f2-4bfb-893b-6e2fdc0477c2"
      },
      "execution_count": 26,
      "outputs": [
        {
          "output_type": "display_data",
          "data": {
            "text/plain": [
              "<Figure size 1280x480 with 2 Axes>"
            ],
            "image/png": "[encoded data removed]"
          },
          "metadata": {}
        }
      ]
    },
    {
      "cell_type": "markdown",
      "source": [
        "The plot on the left demonstrates genes that are signifcantly upregulaed in the disease samples, while the one on the right demonstrates genes that are signficantly upregulated in the healthy samples."
      ],
      "metadata": {
        "id": "8Td417Uf1_8v"
      }
    },
    {
      "cell_type": "code",
      "execution_count": 27,
      "metadata": {
        "id": "kADYqpPbhX5R"
      },
      "outputs": [],
      "source": [
        "# Get top DEGs for disease\n",
        "top_disease_genes = adata_filtered.uns['rank_genes_groups']['names']['disease'][:500]  # Adjust the number as needed\n",
        "\n",
        "# Subset adata to include only top disease-specific genes\n",
        "adata_disease = adata_filtered[:, adata_filtered.var.index.isin(top_disease_genes)]"
      ]
    },
    {
      "cell_type": "markdown",
      "source": [
        "Now let's find highly variable genes within disease-specific genes. This will help remove noise before training our model, but only including the disease-specific genes with the highest variance."
      ],
      "metadata": {
        "id": "MsVGucsJq4Vd"
      }
    },
    {
      "cell_type": "code",
      "execution_count": 28,
      "metadata": {
        "id": "QZz-caiBxjjD",
        "colab": {
          "base_uri": "https://localhost:8080/"
        },
        "outputId": "fe35bd33-e4f3-4a91-c528-6429bd455e9e"
      },
      "outputs": [
        {
          "output_type": "stream",
          "name": "stderr",
          "text": [
            "/usr/local/lib/python3.10/dist-packages/scanpy/preprocessing/_highly_variable_genes.py:696: ImplicitModificationWarning: Trying to modify attribute `._uns` of view, initializing view as actual.\n",
            "  adata.uns[\"hvg\"] = {\"flavor\": flavor}\n"
          ]
        }
      ],
      "source": [
        "# Subset to disease samples only\n",
        "adata_disease_subset = adata_disease[adata_disease.obs['condition'] == 'disease', :]\n",
        "\n",
        "# Find highly variable genes within disease samples\n",
        "sc.pp.highly_variable_genes(adata_disease_subset, min_mean=0.0125, max_mean=3, min_disp=0.5)\n",
        "\n",
        "# Subset to retain only highly variable disease-specific genes\n",
        "adata_disease = adata_disease_subset[:, adata_disease_subset.var['highly_variable']]\n"
      ]
    },
    {
      "cell_type": "code",
      "source": [
        "adata_disease.obs"
      ],
      "metadata": {
        "colab": {
          "base_uri": "https://localhost:8080/",
          "height": 475
        },
        "id": "n59D6RvX3C_N",
        "outputId": "c22f8c1e-1090-4e48-c286-d12e1185c28a"
      },
      "execution_count": 48,
      "outputs": [
        {
          "output_type": "execute_result",
          "data": {
            "text/plain": [
              "                                       biosample_id  donor_id         species  \\\n",
              "NAME                                                                            \n",
              "TCGAAACGTCAG_1_1_1_1_1_1_1_1_1_1_1_1_1    EE_HIV_1B  EE_HIV_1  NCBITaxon_9606   \n",
              "CCAGACACGCCA_1_1_1_1_1_1_1_1_1_1_1_1_1    EE_HIV_1B  EE_HIV_1  NCBITaxon_9606   \n",
              "AATCCTTGGTCC_1_1_1_1_1_1_1_1_1_1_1_1_1    EE_HIV_1B  EE_HIV_1  NCBITaxon_9606   \n",
              "TCTCGACGGATG_1_1_1_1_1_1_1_1_1_1_1_1_1    EE_HIV_1B  EE_HIV_1  NCBITaxon_9606   \n",
              "TGCCCGCAATCT_1_1_1_1_1_1_1_1_1_1_1_1_1    EE_HIV_1B  EE_HIV_1  NCBITaxon_9606   \n",
              "...                                             ...       ...             ...   \n",
              "AGACTAGATCCT_1_1                          EE_HIV_3J  EE_HIV_3  NCBITaxon_9606   \n",
              "AATAGATTGCTA_1_1                          EE_HIV_3J  EE_HIV_3  NCBITaxon_9606   \n",
              "TGCGCAGGAAAC_1_1                          EE_HIV_3J  EE_HIV_3  NCBITaxon_9606   \n",
              "GTACCTTACCGG_1_1                          EE_HIV_3J  EE_HIV_3  NCBITaxon_9606   \n",
              "GGGCGGTATGAA_1_1                          EE_HIV_3J  EE_HIV_3  NCBITaxon_9606   \n",
              "\n",
              "                                       species__ontology_label        disease  \\\n",
              "NAME                                                                            \n",
              "TCGAAACGTCAG_1_1_1_1_1_1_1_1_1_1_1_1_1            Homo sapiens  MONDO_0004335   \n",
              "CCAGACACGCCA_1_1_1_1_1_1_1_1_1_1_1_1_1            Homo sapiens  MONDO_0004335   \n",
              "AATCCTTGGTCC_1_1_1_1_1_1_1_1_1_1_1_1_1            Homo sapiens  MONDO_0004335   \n",
              "TCTCGACGGATG_1_1_1_1_1_1_1_1_1_1_1_1_1            Homo sapiens  MONDO_0004335   \n",
              "TGCCCGCAATCT_1_1_1_1_1_1_1_1_1_1_1_1_1            Homo sapiens  MONDO_0004335   \n",
              "...                                                        ...            ...   \n",
              "AGACTAGATCCT_1_1                                  Homo sapiens  MONDO_0004335   \n",
              "AATAGATTGCTA_1_1                                  Homo sapiens  MONDO_0004335   \n",
              "TGCGCAGGAAAC_1_1                                  Homo sapiens  MONDO_0004335   \n",
              "GTACCTTACCGG_1_1                                  Homo sapiens  MONDO_0004335   \n",
              "GGGCGGTATGAA_1_1                                  Homo sapiens  MONDO_0004335   \n",
              "\n",
              "                                          disease__ontology_label  \\\n",
              "NAME                                                                \n",
              "TCGAAACGTCAG_1_1_1_1_1_1_1_1_1_1_1_1_1  digestive system disorder   \n",
              "CCAGACACGCCA_1_1_1_1_1_1_1_1_1_1_1_1_1  digestive system disorder   \n",
              "AATCCTTGGTCC_1_1_1_1_1_1_1_1_1_1_1_1_1  digestive system disorder   \n",
              "TCTCGACGGATG_1_1_1_1_1_1_1_1_1_1_1_1_1  digestive system disorder   \n",
              "TGCCCGCAATCT_1_1_1_1_1_1_1_1_1_1_1_1_1  digestive system disorder   \n",
              "...                                                           ...   \n",
              "AGACTAGATCCT_1_1                        digestive system disorder   \n",
              "AATAGATTGCTA_1_1                        digestive system disorder   \n",
              "TGCGCAGGAAAC_1_1                        digestive system disorder   \n",
              "GTACCTTACCGG_1_1                        digestive system disorder   \n",
              "GGGCGGTATGAA_1_1                        digestive system disorder   \n",
              "\n",
              "                                                 organ  \\\n",
              "NAME                                                     \n",
              "TCGAAACGTCAG_1_1_1_1_1_1_1_1_1_1_1_1_1  UBERON_0003286   \n",
              "CCAGACACGCCA_1_1_1_1_1_1_1_1_1_1_1_1_1  UBERON_0003286   \n",
              "AATCCTTGGTCC_1_1_1_1_1_1_1_1_1_1_1_1_1  UBERON_0003286   \n",
              "TCTCGACGGATG_1_1_1_1_1_1_1_1_1_1_1_1_1  UBERON_0003286   \n",
              "TGCCCGCAATCT_1_1_1_1_1_1_1_1_1_1_1_1_1  UBERON_0003286   \n",
              "...                                                ...   \n",
              "AGACTAGATCCT_1_1                        UBERON_0002115   \n",
              "AATAGATTGCTA_1_1                        UBERON_0002115   \n",
              "TGCGCAGGAAAC_1_1                        UBERON_0002115   \n",
              "GTACCTTACCGG_1_1                        UBERON_0002115   \n",
              "GGGCGGTATGAA_1_1                        UBERON_0002115   \n",
              "\n",
              "                                             organ__ontology_label  \\\n",
              "NAME                                                                 \n",
              "TCGAAACGTCAG_1_1_1_1_1_1_1_1_1_1_1_1_1  foregut region of duodenum   \n",
              "CCAGACACGCCA_1_1_1_1_1_1_1_1_1_1_1_1_1  foregut region of duodenum   \n",
              "AATCCTTGGTCC_1_1_1_1_1_1_1_1_1_1_1_1_1  foregut region of duodenum   \n",
              "TCTCGACGGATG_1_1_1_1_1_1_1_1_1_1_1_1_1  foregut region of duodenum   \n",
              "TGCCCGCAATCT_1_1_1_1_1_1_1_1_1_1_1_1_1  foregut region of duodenum   \n",
              "...                                                            ...   \n",
              "AGACTAGATCCT_1_1                                           jejunum   \n",
              "AATAGATTGCTA_1_1                                           jejunum   \n",
              "TGCGCAGGAAAC_1_1                                           jejunum   \n",
              "GTACCTTACCGG_1_1                                           jejunum   \n",
              "GGGCGGTATGAA_1_1                                           jejunum   \n",
              "\n",
              "                                       library_preparation_protocol  \\\n",
              "NAME                                                                  \n",
              "TCGAAACGTCAG_1_1_1_1_1_1_1_1_1_1_1_1_1                  EFO_0008919   \n",
              "CCAGACACGCCA_1_1_1_1_1_1_1_1_1_1_1_1_1                  EFO_0008919   \n",
              "AATCCTTGGTCC_1_1_1_1_1_1_1_1_1_1_1_1_1                  EFO_0008919   \n",
              "TCTCGACGGATG_1_1_1_1_1_1_1_1_1_1_1_1_1                  EFO_0008919   \n",
              "TGCCCGCAATCT_1_1_1_1_1_1_1_1_1_1_1_1_1                  EFO_0008919   \n",
              "...                                                             ...   \n",
              "AGACTAGATCCT_1_1                                        EFO_0008919   \n",
              "AATAGATTGCTA_1_1                                        EFO_0008919   \n",
              "TGCGCAGGAAAC_1_1                                        EFO_0008919   \n",
              "GTACCTTACCGG_1_1                                        EFO_0008919   \n",
              "GGGCGGTATGAA_1_1                                        EFO_0008919   \n",
              "\n",
              "                                       library_preparation_protocol__ontology_label  \\\n",
              "NAME                                                                                  \n",
              "TCGAAACGTCAG_1_1_1_1_1_1_1_1_1_1_1_1_1                                     Seq-Well   \n",
              "CCAGACACGCCA_1_1_1_1_1_1_1_1_1_1_1_1_1                                     Seq-Well   \n",
              "AATCCTTGGTCC_1_1_1_1_1_1_1_1_1_1_1_1_1                                     Seq-Well   \n",
              "TCTCGACGGATG_1_1_1_1_1_1_1_1_1_1_1_1_1                                     Seq-Well   \n",
              "TGCCCGCAATCT_1_1_1_1_1_1_1_1_1_1_1_1_1                                     Seq-Well   \n",
              "...                                                                             ...   \n",
              "AGACTAGATCCT_1_1                                                           Seq-Well   \n",
              "AATAGATTGCTA_1_1                                                           Seq-Well   \n",
              "TGCGCAGGAAAC_1_1                                                           Seq-Well   \n",
              "GTACCTTACCGG_1_1                                                           Seq-Well   \n",
              "GGGCGGTATGAA_1_1                                                           Seq-Well   \n",
              "\n",
              "                                         sex        cell_subset condition  \\\n",
              "NAME                                                                        \n",
              "TCGAAACGTCAG_1_1_1_1_1_1_1_1_1_1_1_1_1  male  T_CD8_IFI44_IFIT1   disease   \n",
              "CCAGACACGCCA_1_1_1_1_1_1_1_1_1_1_1_1_1  male  T_CD8_IFI44_IFIT1   disease   \n",
              "AATCCTTGGTCC_1_1_1_1_1_1_1_1_1_1_1_1_1  male  T_CD8_IFI44_IFIT1   disease   \n",
              "TCTCGACGGATG_1_1_1_1_1_1_1_1_1_1_1_1_1  male               T_MT   disease   \n",
              "TGCCCGCAATCT_1_1_1_1_1_1_1_1_1_1_1_1_1  male  T_CD8_IFI44_IFIT1   disease   \n",
              "...                                      ...                ...       ...   \n",
              "AGACTAGATCCT_1_1                        male       Plasma_cells   disease   \n",
              "AATAGATTGCTA_1_1                        male       Plasma_cells   disease   \n",
              "TGCGCAGGAAAC_1_1                        male       Plasma_cells   disease   \n",
              "GTACCTTACCGG_1_1                        male       Plasma_cells   disease   \n",
              "GGGCGGTATGAA_1_1                        male       Plasma_cells   disease   \n",
              "\n",
              "                                        n_genes_by_counts  total_counts  \\\n",
              "NAME                                                                      \n",
              "TCGAAACGTCAG_1_1_1_1_1_1_1_1_1_1_1_1_1               2266        4396.0   \n",
              "CCAGACACGCCA_1_1_1_1_1_1_1_1_1_1_1_1_1               2678        5181.0   \n",
              "AATCCTTGGTCC_1_1_1_1_1_1_1_1_1_1_1_1_1               2737        5104.0   \n",
              "TCTCGACGGATG_1_1_1_1_1_1_1_1_1_1_1_1_1               1898        5155.0   \n",
              "TGCCCGCAATCT_1_1_1_1_1_1_1_1_1_1_1_1_1               2535        5134.0   \n",
              "...                                                   ...           ...   \n",
              "AGACTAGATCCT_1_1                                     1505        4892.0   \n",
              "AATAGATTGCTA_1_1                                     1471        4631.0   \n",
              "TGCGCAGGAAAC_1_1                                     1728        4744.0   \n",
              "GTACCTTACCGG_1_1                                     1152        4442.0   \n",
              "GGGCGGTATGAA_1_1                                     1543        4735.0   \n",
              "\n",
              "                                        total_counts_mt  pct_counts_mt  \n",
              "NAME                                                                    \n",
              "TCGAAACGTCAG_1_1_1_1_1_1_1_1_1_1_1_1_1            428.0       9.736124  \n",
              "CCAGACACGCCA_1_1_1_1_1_1_1_1_1_1_1_1_1            561.0      10.828025  \n",
              "AATCCTTGGTCC_1_1_1_1_1_1_1_1_1_1_1_1_1            235.0       4.604232  \n",
              "TCTCGACGGATG_1_1_1_1_1_1_1_1_1_1_1_1_1           2324.0      45.082444  \n",
              "TGCCCGCAATCT_1_1_1_1_1_1_1_1_1_1_1_1_1            550.0      10.712894  \n",
              "...                                                 ...            ...  \n",
              "AGACTAGATCCT_1_1                                  210.0       4.292723  \n",
              "AATAGATTGCTA_1_1                                  330.0       7.125891  \n",
              "TGCGCAGGAAAC_1_1                                  117.0       2.466273  \n",
              "GTACCTTACCGG_1_1                                  205.0       4.615038  \n",
              "GGGCGGTATGAA_1_1                                  295.0       6.230201  \n",
              "\n",
              "[9955 rows x 17 columns]"
            ],
            "text/html": [
              "\n",
              "  <div id=\"df-ec79bab1-e1ce-404f-b081-c5d3e67fb6d1\" class=\"colab-df-container\">\n",
              "    <div>\n",
              "<style scoped>\n",
              "    .dataframe tbody tr th:only-of-type {\n",
              "        vertical-align: middle;\n",
              "    }\n",
              "\n",
              "    .dataframe tbody tr th {\n",
              "        vertical-align: top;\n",
              "    }\n",
              "\n",
              "    .dataframe thead th {\n",
              "        text-align: right;\n",
              "    }\n",
              "</style>\n",
              "<table border=\"1\" class=\"dataframe\">\n",
              "  <thead>\n",
              "    <tr style=\"text-align: right;\">\n",
              "      <th></th>\n",
              "      <th>biosample_id</th>\n",
              "      <th>donor_id</th>\n",
              "      <th>species</th>\n",
              "      <th>species__ontology_label</th>\n",
              "      <th>disease</th>\n",
              "      <th>disease__ontology_label</th>\n",
              "      <th>organ</th>\n",
              "      <th>organ__ontology_label</th>\n",
              "      <th>library_preparation_protocol</th>\n",
              "      <th>library_preparation_protocol__ontology_label</th>\n",
              "      <th>sex</th>\n",
              "      <th>cell_subset</th>\n",
              "      <th>condition</th>\n",
              "      <th>n_genes_by_counts</th>\n",
              "      <th>total_counts</th>\n",
              "      <th>total_counts_mt</th>\n",
              "      <th>pct_counts_mt</th>\n",
              "    </tr>\n",
              "    <tr>\n",
              "      <th>NAME</th>\n",
              "      <th></th>\n",
              "      <th></th>\n",
              "      <th></th>\n",
              "      <th></th>\n",
              "      <th></th>\n",
              "      <th></th>\n",
              "      <th></th>\n",
              "      <th></th>\n",
              "      <th></th>\n",
              "      <th></th>\n",
              "      <th></th>\n",
              "      <th></th>\n",
              "      <th></th>\n",
              "      <th></th>\n",
              "      <th></th>\n",
              "      <th></th>\n",
              "      <th></th>\n",
              "    </tr>\n",
              "  </thead>\n",
              "  <tbody>\n",
              "    <tr>\n",
              "      <th>TCGAAACGTCAG_1_1_1_1_1_1_1_1_1_1_1_1_1</th>\n",
              "      <td>EE_HIV_1B</td>\n",
              "      <td>EE_HIV_1</td>\n",
              "      <td>NCBITaxon_9606</td>\n",
              "      <td>Homo sapiens</td>\n",
              "      <td>MONDO_0004335</td>\n",
              "      <td>digestive system disorder</td>\n",
              "      <td>UBERON_0003286</td>\n",
              "      <td>foregut region of duodenum</td>\n",
              "      <td>EFO_0008919</td>\n",
              "      <td>Seq-Well</td>\n",
              "      <td>male</td>\n",
              "      <td>T_CD8_IFI44_IFIT1</td>\n",
              "      <td>disease</td>\n",
              "      <td>2266</td>\n",
              "      <td>4396.0</td>\n",
              "      <td>428.0</td>\n",
              "      <td>9.736124</td>\n",
              "    </tr>\n",
              "    <tr>\n",
              "      <th>CCAGACACGCCA_1_1_1_1_1_1_1_1_1_1_1_1_1</th>\n",
              "      <td>EE_HIV_1B</td>\n",
              "      <td>EE_HIV_1</td>\n",
              "      <td>NCBITaxon_9606</td>\n",
              "      <td>Homo sapiens</td>\n",
              "      <td>MONDO_0004335</td>\n",
              "      <td>digestive system disorder</td>\n",
              "      <td>UBERON_0003286</td>\n",
              "      <td>foregut region of duodenum</td>\n",
              "      <td>EFO_0008919</td>\n",
              "      <td>Seq-Well</td>\n",
              "      <td>male</td>\n",
              "      <td>T_CD8_IFI44_IFIT1</td>\n",
              "      <td>disease</td>\n",
              "      <td>2678</td>\n",
              "      <td>5181.0</td>\n",
              "      <td>561.0</td>\n",
              "      <td>10.828025</td>\n",
              "    </tr>\n",
              "    <tr>\n",
              "      <th>AATCCTTGGTCC_1_1_1_1_1_1_1_1_1_1_1_1_1</th>\n",
              "      <td>EE_HIV_1B</td>\n",
              "      <td>EE_HIV_1</td>\n",
              "      <td>NCBITaxon_9606</td>\n",
              "      <td>Homo sapiens</td>\n",
              "      <td>MONDO_0004335</td>\n",
              "      <td>digestive system disorder</td>\n",
              "      <td>UBERON_0003286</td>\n",
              "      <td>foregut region of duodenum</td>\n",
              "      <td>EFO_0008919</td>\n",
              "      <td>Seq-Well</td>\n",
              "      <td>male</td>\n",
              "      <td>T_CD8_IFI44_IFIT1</td>\n",
              "      <td>disease</td>\n",
              "      <td>2737</td>\n",
              "      <td>5104.0</td>\n",
              "      <td>235.0</td>\n",
              "      <td>4.604232</td>\n",
              "    </tr>\n",
              "    <tr>\n",
              "      <th>TCTCGACGGATG_1_1_1_1_1_1_1_1_1_1_1_1_1</th>\n",
              "      <td>EE_HIV_1B</td>\n",
              "      <td>EE_HIV_1</td>\n",
              "      <td>NCBITaxon_9606</td>\n",
              "      <td>Homo sapiens</td>\n",
              "      <td>MONDO_0004335</td>\n",
              "      <td>digestive system disorder</td>\n",
              "      <td>UBERON_0003286</td>\n",
              "      <td>foregut region of duodenum</td>\n",
              "      <td>EFO_0008919</td>\n",
              "      <td>Seq-Well</td>\n",
              "      <td>male</td>\n",
              "      <td>T_MT</td>\n",
              "      <td>disease</td>\n",
              "      <td>1898</td>\n",
              "      <td>5155.0</td>\n",
              "      <td>2324.0</td>\n",
              "      <td>45.082444</td>\n",
              "    </tr>\n",
              "    <tr>\n",
              "      <th>TGCCCGCAATCT_1_1_1_1_1_1_1_1_1_1_1_1_1</th>\n",
              "      <td>EE_HIV_1B</td>\n",
              "      <td>EE_HIV_1</td>\n",
              "      <td>NCBITaxon_9606</td>\n",
              "      <td>Homo sapiens</td>\n",
              "      <td>MONDO_0004335</td>\n",
              "      <td>digestive system disorder</td>\n",
              "      <td>UBERON_0003286</td>\n",
              "      <td>foregut region of duodenum</td>\n",
              "      <td>EFO_0008919</td>\n",
              "      <td>Seq-Well</td>\n",
              "      <td>male</td>\n",
              "      <td>T_CD8_IFI44_IFIT1</td>\n",
              "      <td>disease</td>\n",
              "      <td>2535</td>\n",
              "      <td>5134.0</td>\n",
              "      <td>550.0</td>\n",
              "      <td>10.712894</td>\n",
              "    </tr>\n",
              "    <tr>\n",
              "      <th>...</th>\n",
              "      <td>...</td>\n",
              "      <td>...</td>\n",
              "      <td>...</td>\n",
              "      <td>...</td>\n",
              "      <td>...</td>\n",
              "      <td>...</td>\n",
              "      <td>...</td>\n",
              "      <td>...</td>\n",
              "      <td>...</td>\n",
              "      <td>...</td>\n",
              "      <td>...</td>\n",
              "      <td>...</td>\n",
              "      <td>...</td>\n",
              "      <td>...</td>\n",
              "      <td>...</td>\n",
              "      <td>...</td>\n",
              "      <td>...</td>\n",
              "    </tr>\n",
              "    <tr>\n",
              "      <th>AGACTAGATCCT_1_1</th>\n",
              "      <td>EE_HIV_3J</td>\n",
              "      <td>EE_HIV_3</td>\n",
              "      <td>NCBITaxon_9606</td>\n",
              "      <td>Homo sapiens</td>\n",
              "      <td>MONDO_0004335</td>\n",
              "      <td>digestive system disorder</td>\n",
              "      <td>UBERON_0002115</td>\n",
              "      <td>jejunum</td>\n",
              "      <td>EFO_0008919</td>\n",
              "      <td>Seq-Well</td>\n",
              "      <td>male</td>\n",
              "      <td>Plasma_cells</td>\n",
              "      <td>disease</td>\n",
              "      <td>1505</td>\n",
              "      <td>4892.0</td>\n",
              "      <td>210.0</td>\n",
              "      <td>4.292723</td>\n",
              "    </tr>\n",
              "    <tr>\n",
              "      <th>AATAGATTGCTA_1_1</th>\n",
              "      <td>EE_HIV_3J</td>\n",
              "      <td>EE_HIV_3</td>\n",
              "      <td>NCBITaxon_9606</td>\n",
              "      <td>Homo sapiens</td>\n",
              "      <td>MONDO_0004335</td>\n",
              "      <td>digestive system disorder</td>\n",
              "      <td>UBERON_0002115</td>\n",
              "      <td>jejunum</td>\n",
              "      <td>EFO_0008919</td>\n",
              "      <td>Seq-Well</td>\n",
              "      <td>male</td>\n",
              "      <td>Plasma_cells</td>\n",
              "      <td>disease</td>\n",
              "      <td>1471</td>\n",
              "      <td>4631.0</td>\n",
              "      <td>330.0</td>\n",
              "      <td>7.125891</td>\n",
              "    </tr>\n",
              "    <tr>\n",
              "      <th>TGCGCAGGAAAC_1_1</th>\n",
              "      <td>EE_HIV_3J</td>\n",
              "      <td>EE_HIV_3</td>\n",
              "      <td>NCBITaxon_9606</td>\n",
              "      <td>Homo sapiens</td>\n",
              "      <td>MONDO_0004335</td>\n",
              "      <td>digestive system disorder</td>\n",
              "      <td>UBERON_0002115</td>\n",
              "      <td>jejunum</td>\n",
              "      <td>EFO_0008919</td>\n",
              "      <td>Seq-Well</td>\n",
              "      <td>male</td>\n",
              "      <td>Plasma_cells</td>\n",
              "      <td>disease</td>\n",
              "      <td>1728</td>\n",
              "      <td>4744.0</td>\n",
              "      <td>117.0</td>\n",
              "      <td>2.466273</td>\n",
              "    </tr>\n",
              "    <tr>\n",
              "      <th>GTACCTTACCGG_1_1</th>\n",
              "      <td>EE_HIV_3J</td>\n",
              "      <td>EE_HIV_3</td>\n",
              "      <td>NCBITaxon_9606</td>\n",
              "      <td>Homo sapiens</td>\n",
              "      <td>MONDO_0004335</td>\n",
              "      <td>digestive system disorder</td>\n",
              "      <td>UBERON_0002115</td>\n",
              "      <td>jejunum</td>\n",
              "      <td>EFO_0008919</td>\n",
              "      <td>Seq-Well</td>\n",
              "      <td>male</td>\n",
              "      <td>Plasma_cells</td>\n",
              "      <td>disease</td>\n",
              "      <td>1152</td>\n",
              "      <td>4442.0</td>\n",
              "      <td>205.0</td>\n",
              "      <td>4.615038</td>\n",
              "    </tr>\n",
              "    <tr>\n",
              "      <th>GGGCGGTATGAA_1_1</th>\n",
              "      <td>EE_HIV_3J</td>\n",
              "      <td>EE_HIV_3</td>\n",
              "      <td>NCBITaxon_9606</td>\n",
              "      <td>Homo sapiens</td>\n",
              "      <td>MONDO_0004335</td>\n",
              "      <td>digestive system disorder</td>\n",
              "      <td>UBERON_0002115</td>\n",
              "      <td>jejunum</td>\n",
              "      <td>EFO_0008919</td>\n",
              "      <td>Seq-Well</td>\n",
              "      <td>male</td>\n",
              "      <td>Plasma_cells</td>\n",
              "      <td>disease</td>\n",
              "      <td>1543</td>\n",
              "      <td>4735.0</td>\n",
              "      <td>295.0</td>\n",
              "      <td>6.230201</td>\n",
              "    </tr>\n",
              "  </tbody>\n",
              "</table>\n",
              "<p>9955 rows × 17 columns</p>\n",
              "</div>\n",
              "    <div class=\"colab-df-buttons\">\n",
              "\n",
              "  <div class=\"colab-df-container\">\n",
              "    <button class=\"colab-df-convert\" onclick=\"convertToInteractive('df-ec79bab1-e1ce-404f-b081-c5d3e67fb6d1')\"\n",
              "            title=\"Convert this dataframe to an interactive table.\"\n",
              "            style=\"display:none;\">\n",
              "\n",
              "  <svg xmlns=\"http://www.w3.org/2000/svg\" height=\"24px\" viewBox=\"0 -960 960 960\">\n",
              "    <path d=\"M120-120v-720h720v720H120Zm60-500h600v-160H180v160Zm220 220h160v-160H400v160Zm0 220h160v-160H400v160ZM180-400h160v-160H180v160Zm440 0h160v-160H620v160ZM180-180h160v-160H180v160Zm440 0h160v-160H620v160Z\"/>\n",
              "  </svg>\n",
              "    </button>\n",
              "\n",
              "  <style>\n",
              "    .colab-df-container {\n",
              "      display:flex;\n",
              "      gap: 12px;\n",
              "    }\n",
              "\n",
              "    .colab-df-convert {\n",
              "      background-color: #E8F0FE;\n",
              "      border: none;\n",
              "      border-radius: 50%;\n",
              "      cursor: pointer;\n",
              "      display: none;\n",
              "      fill: #1967D2;\n",
              "      height: 32px;\n",
              "      padding: 0 0 0 0;\n",
              "      width: 32px;\n",
              "    }\n",
              "\n",
              "    .colab-df-convert:hover {\n",
              "      background-color: #E2EBFA;\n",
              "      box-shadow: 0px 1px 2px rgba(60, 64, 67, 0.3), 0px 1px 3px 1px rgba(60, 64, 67, 0.15);\n",
              "      fill: #174EA6;\n",
              "    }\n",
              "\n",
              "    .colab-df-buttons div {\n",
              "      margin-bottom: 4px;\n",
              "    }\n",
              "\n",
              "    [theme=dark] .colab-df-convert {\n",
              "      background-color: #3B4455;\n",
              "      fill: #D2E3FC;\n",
              "    }\n",
              "\n",
              "    [theme=dark] .colab-df-convert:hover {\n",
              "      background-color: #434B5C;\n",
              "      box-shadow: 0px 1px 3px 1px rgba(0, 0, 0, 0.15);\n",
              "      filter: drop-shadow(0px 1px 2px rgba(0, 0, 0, 0.3));\n",
              "      fill: #FFFFFF;\n",
              "    }\n",
              "  </style>\n",
              "\n",
              "    <script>\n",
              "      const buttonEl =\n",
              "        document.querySelector('#df-ec79bab1-e1ce-404f-b081-c5d3e67fb6d1 button.colab-df-convert');\n",
              "      buttonEl.style.display =\n",
              "        google.colab.kernel.accessAllowed ? 'block' : 'none';\n",
              "\n",
              "      async function convertToInteractive(key) {\n",
              "        const element = document.querySelector('#df-ec79bab1-e1ce-404f-b081-c5d3e67fb6d1');\n",
              "        const dataTable =\n",
              "          await google.colab.kernel.invokeFunction('convertToInteractive',\n",
              "                                                    [key], {});\n",
              "        if (!dataTable) return;\n",
              "\n",
              "        const docLinkHtml = 'Like what you see? Visit the ' +\n",
              "          '<a target=\"_blank\" href=https://colab.research.google.com/notebooks/data_table.ipynb>data table notebook</a>'\n",
              "          + ' to learn more about interactive tables.';\n",
              "        element.innerHTML = '';\n",
              "        dataTable['output_type'] = 'display_data';\n",
              "        await google.colab.output.renderOutput(dataTable, element);\n",
              "        const docLink = document.createElement('div');\n",
              "        docLink.innerHTML = docLinkHtml;\n",
              "        element.appendChild(docLink);\n",
              "      }\n",
              "    </script>\n",
              "  </div>\n",
              "\n",
              "\n",
              "<div id=\"df-bf8b60df-8a0d-4287-bbc5-570204e0f802\">\n",
              "  <button class=\"colab-df-quickchart\" onclick=\"quickchart('df-bf8b60df-8a0d-4287-bbc5-570204e0f802')\"\n",
              "            title=\"Suggest charts\"\n",
              "            style=\"display:none;\">\n",
              "\n",
              "<svg xmlns=\"http://www.w3.org/2000/svg\" height=\"24px\"viewBox=\"0 0 24 24\"\n",
              "     width=\"24px\">\n",
              "    <g>\n",
              "        <path d=\"M19 3H5c-1.1 0-2 .9-2 2v14c0 1.1.9 2 2 2h14c1.1 0 2-.9 2-2V5c0-1.1-.9-2-2-2zM9 17H7v-7h2v7zm4 0h-2V7h2v10zm4 0h-2v-4h2v4z\"/>\n",
              "    </g>\n",
              "</svg>\n",
              "  </button>\n",
              "\n",
              "<style>\n",
              "  .colab-df-quickchart {\n",
              "      --bg-color: #E8F0FE;\n",
              "      --fill-color: #1967D2;\n",
              "      --hover-bg-color: #E2EBFA;\n",
              "      --hover-fill-color: #174EA6;\n",
              "      --disabled-fill-color: #AAA;\n",
              "      --disabled-bg-color: #DDD;\n",
              "  }\n",
              "\n",
              "  [theme=dark] .colab-df-quickchart {\n",
              "      --bg-color: #3B4455;\n",
              "      --fill-color: #D2E3FC;\n",
              "      --hover-bg-color: #434B5C;\n",
              "      --hover-fill-color: #FFFFFF;\n",
              "      --disabled-bg-color: #3B4455;\n",
              "      --disabled-fill-color: #666;\n",
              "  }\n",
              "\n",
              "  .colab-df-quickchart {\n",
              "    background-color: var(--bg-color);\n",
              "    border: none;\n",
              "    border-radius: 50%;\n",
              "    cursor: pointer;\n",
              "    display: none;\n",
              "    fill: var(--fill-color);\n",
              "    height: 32px;\n",
              "    padding: 0;\n",
              "    width: 32px;\n",
              "  }\n",
              "\n",
              "  .colab-df-quickchart:hover {\n",
              "    background-color: var(--hover-bg-color);\n",
              "    box-shadow: 0 1px 2px rgba(60, 64, 67, 0.3), 0 1px 3px 1px rgba(60, 64, 67, 0.15);\n",
              "    fill: var(--button-hover-fill-color);\n",
              "  }\n",
              "\n",
              "  .colab-df-quickchart-complete:disabled,\n",
              "  .colab-df-quickchart-complete:disabled:hover {\n",
              "    background-color: var(--disabled-bg-color);\n",
              "    fill: var(--disabled-fill-color);\n",
              "    box-shadow: none;\n",
              "  }\n",
              "\n",
              "  .colab-df-spinner {\n",
              "    border: 2px solid var(--fill-color);\n",
              "    border-color: transparent;\n",
              "    border-bottom-color: var(--fill-color);\n",
              "    animation:\n",
              "      spin 1s steps(1) infinite;\n",
              "  }\n",
              "\n",
              "  @keyframes spin {\n",
              "    0% {\n",
              "      border-color: transparent;\n",
              "      border-bottom-color: var(--fill-color);\n",
              "      border-left-color: var(--fill-color);\n",
              "    }\n",
              "    20% {\n",
              "      border-color: transparent;\n",
              "      border-left-color: var(--fill-color);\n",
              "      border-top-color: var(--fill-color);\n",
              "    }\n",
              "    30% {\n",
              "      border-color: transparent;\n",
              "      border-left-color: var(--fill-color);\n",
              "      border-top-color: var(--fill-color);\n",
              "      border-right-color: var(--fill-color);\n",
              "    }\n",
              "    40% {\n",
              "      border-color: transparent;\n",
              "      border-right-color: var(--fill-color);\n",
              "      border-top-color: var(--fill-color);\n",
              "    }\n",
              "    60% {\n",
              "      border-color: transparent;\n",
              "      border-right-color: var(--fill-color);\n",
              "    }\n",
              "    80% {\n",
              "      border-color: transparent;\n",
              "      border-right-color: var(--fill-color);\n",
              "      border-bottom-color: var(--fill-color);\n",
              "    }\n",
              "    90% {\n",
              "      border-color: transparent;\n",
              "      border-bottom-color: var(--fill-color);\n",
              "    }\n",
              "  }\n",
              "</style>\n",
              "\n",
              "  <script>\n",
              "    async function quickchart(key) {\n",
              "      const quickchartButtonEl =\n",
              "        document.querySelector('#' + key + ' button');\n",
              "      quickchartButtonEl.disabled = true;  // To prevent multiple clicks.\n",
              "      quickchartButtonEl.classList.add('colab-df-spinner');\n",
              "      try {\n",
              "        const charts = await google.colab.kernel.invokeFunction(\n",
              "            'suggestCharts', [key], {});\n",
              "      } catch (error) {\n",
              "        console.error('Error during call to suggestCharts:', error);\n",
              "      }\n",
              "      quickchartButtonEl.classList.remove('colab-df-spinner');\n",
              "      quickchartButtonEl.classList.add('colab-df-quickchart-complete');\n",
              "    }\n",
              "    (() => {\n",
              "      let quickchartButtonEl =\n",
              "        document.querySelector('#df-bf8b60df-8a0d-4287-bbc5-570204e0f802 button');\n",
              "      quickchartButtonEl.style.display =\n",
              "        google.colab.kernel.accessAllowed ? 'block' : 'none';\n",
              "    })();\n",
              "  </script>\n",
              "</div>\n",
              "\n",
              "    </div>\n",
              "  </div>\n"
            ],
            "application/vnd.google.colaboratory.intrinsic+json": {
              "type": "dataframe",
              "summary": "{\n  \"name\": \"adata_disease\",\n  \"rows\": 9955,\n  \"fields\": [\n    {\n      \"column\": \"NAME\",\n      \"properties\": {\n        \"dtype\": \"string\",\n        \"num_unique_values\": 9955,\n        \"samples\": [\n          \"ATAGTTTGTCGA_2_1_1_1_1\",\n          \"CATGTTGGCTGC_1_1_1_1_1_1_1_1\",\n          \"CGCAGTACATGG_2_1_1\"\n        ],\n        \"semantic_type\": \"\",\n        \"description\": \"\"\n      }\n    },\n    {\n      \"column\": \"biosample_id\",\n      \"properties\": {\n        \"dtype\": \"category\",\n        \"num_unique_values\": 27,\n        \"samples\": [\n          \"EE_3D\",\n          \"EE_6B\",\n          \"EE_4B\"\n        ],\n        \"semantic_type\": \"\",\n        \"description\": \"\"\n      }\n    },\n    {\n      \"column\": \"donor_id\",\n      \"properties\": {\n        \"dtype\": \"category\",\n        \"num_unique_values\": 11,\n        \"samples\": [\n          \"EE_5\",\n          \"EE_HIV_1\",\n          \"EE_HIV_3\"\n        ],\n        \"semantic_type\": \"\",\n        \"description\": \"\"\n      }\n    },\n    {\n      \"column\": \"species\",\n      \"properties\": {\n        \"dtype\": \"category\",\n        \"num_unique_values\": 1,\n        \"samples\": [\n          \"NCBITaxon_9606\"\n        ],\n        \"semantic_type\": \"\",\n        \"description\": \"\"\n      }\n    },\n    {\n      \"column\": \"species__ontology_label\",\n      \"properties\": {\n        \"dtype\": \"category\",\n        \"num_unique_values\": 1,\n        \"samples\": [\n          \"Homo sapiens\"\n        ],\n        \"semantic_type\": \"\",\n        \"description\": \"\"\n      }\n    },\n    {\n      \"column\": \"disease\",\n      \"properties\": {\n        \"dtype\": \"category\",\n        \"num_unique_values\": 1,\n        \"samples\": [\n          \"MONDO_0004335\"\n        ],\n        \"semantic_type\": \"\",\n        \"description\": \"\"\n      }\n    },\n    {\n      \"column\": \"disease__ontology_label\",\n      \"properties\": {\n        \"dtype\": \"category\",\n        \"num_unique_values\": 1,\n        \"samples\": [\n          \"digestive system disorder\"\n        ],\n        \"semantic_type\": \"\",\n        \"description\": \"\"\n      }\n    },\n    {\n      \"column\": \"organ\",\n      \"properties\": {\n        \"dtype\": \"category\",\n        \"num_unique_values\": 3,\n        \"samples\": [\n          \"UBERON_0003286\"\n        ],\n        \"semantic_type\": \"\",\n        \"description\": \"\"\n      }\n    },\n    {\n      \"column\": \"organ__ontology_label\",\n      \"properties\": {\n        \"dtype\": \"category\",\n        \"num_unique_values\": 3,\n        \"samples\": [\n          \"foregut region of duodenum\"\n        ],\n        \"semantic_type\": \"\",\n        \"description\": \"\"\n      }\n    },\n    {\n      \"column\": \"library_preparation_protocol\",\n      \"properties\": {\n        \"dtype\": \"category\",\n        \"num_unique_values\": 1,\n        \"samples\": [\n          \"EFO_0008919\"\n        ],\n        \"semantic_type\": \"\",\n        \"description\": \"\"\n      }\n    },\n    {\n      \"column\": \"library_preparation_protocol__ontology_label\",\n      \"properties\": {\n        \"dtype\": \"category\",\n        \"num_unique_values\": 1,\n        \"samples\": [\n          \"Seq-Well\"\n        ],\n        \"semantic_type\": \"\",\n        \"description\": \"\"\n      }\n    },\n    {\n      \"column\": \"sex\",\n      \"properties\": {\n        \"dtype\": \"category\",\n        \"num_unique_values\": 2,\n        \"samples\": [\n          \"female\"\n        ],\n        \"semantic_type\": \"\",\n        \"description\": \"\"\n      }\n    },\n    {\n      \"column\": \"cell_subset\",\n      \"properties\": {\n        \"dtype\": \"category\",\n        \"num_unique_values\": 18,\n        \"samples\": [\n          \"T_CD8_IFI44_IFIT1\"\n        ],\n        \"semantic_type\": \"\",\n        \"description\": \"\"\n      }\n    },\n    {\n      \"column\": \"condition\",\n      \"properties\": {\n        \"dtype\": \"category\",\n        \"num_unique_values\": 1,\n        \"samples\": [\n          \"disease\"\n        ],\n        \"semantic_type\": \"\",\n        \"description\": \"\"\n      }\n    },\n    {\n      \"column\": \"n_genes_by_counts\",\n      \"properties\": {\n        \"dtype\": \"number\",\n        \"std\": 506,\n        \"min\": 289,\n        \"max\": 3112,\n        \"num_unique_values\": 2199,\n        \"samples\": [\n          769\n        ],\n        \"semantic_type\": \"\",\n        \"description\": \"\"\n      }\n    },\n    {\n      \"column\": \"total_counts\",\n      \"properties\": {\n        \"dtype\": \"number\",\n        \"std\": 555.5698182019863,\n        \"min\": 2435.0,\n        \"max\": 5385.0,\n        \"num_unique_values\": 2026,\n        \"samples\": [\n          4279.0\n        ],\n        \"semantic_type\": \"\",\n        \"description\": \"\"\n      }\n    },\n    {\n      \"column\": \"total_counts_mt\",\n      \"properties\": {\n        \"dtype\": \"number\",\n        \"std\": 338.37932758873325,\n        \"min\": 1.0,\n        \"max\": 2565.0,\n        \"num_unique_values\": 1411,\n        \"samples\": [\n          204.0\n        ],\n        \"semantic_type\": \"\",\n        \"description\": \"\"\n      }\n    },\n    {\n      \"column\": \"pct_counts_mt\",\n      \"properties\": {\n        \"dtype\": \"number\",\n        \"std\": 7.442756832092061,\n        \"min\": 0.023282887077997673,\n        \"max\": 49.81109564525751,\n        \"num_unique_values\": 9875,\n        \"samples\": [\n          7.861111111111112\n        ],\n        \"semantic_type\": \"\",\n        \"description\": \"\"\n      }\n    }\n  ]\n}"
            }
          },
          "metadata": {},
          "execution_count": 48
        }
      ]
    },
    {
      "cell_type": "code",
      "source": [
        "cell_counts_disease = adata_filtered.obs['condition'].value_counts()\n",
        "print(cell_counts_disease)"
      ],
      "metadata": {
        "colab": {
          "base_uri": "https://localhost:8080/"
        },
        "id": "yPWCVQlz3WB8",
        "outputId": "aa3ffa9e-450c-43ea-82bb-e418550eb47d"
      },
      "execution_count": 49,
      "outputs": [
        {
          "output_type": "stream",
          "name": "stdout",
          "text": [
            "condition\n",
            "disease    9955\n",
            "healthy    1081\n",
            "Name: count, dtype: int64\n"
          ]
        }
      ]
    },
    {
      "cell_type": "code",
      "execution_count": 29,
      "metadata": {
        "colab": {
          "base_uri": "https://localhost:8080/",
          "height": 528
        },
        "id": "7hPOA6LhxmHv",
        "outputId": "54a64a28-d845-4d9d-ed0d-c419bda98c63"
      },
      "outputs": [
        {
          "output_type": "stream",
          "name": "stderr",
          "text": [
            "/usr/local/lib/python3.10/dist-packages/scanpy/preprocessing/_scale.py:318: UserWarning: Received a view of an AnnData. Making a copy.\n",
            "  view_to_actual(adata)\n"
          ]
        },
        {
          "output_type": "display_data",
          "data": {
            "text/plain": [
              "<Figure size 640x480 with 1 Axes>"
            ],
            "image/png": "[encoded data removed]"
          },
          "metadata": {}
        }
      ],
      "source": [
        "# Scale the data\n",
        "sc.pp.scale(adata_disease, max_value=10)\n",
        "\n",
        "\n",
        "# Perform PCA (dimensionality reduction)\n",
        "sc.tl.pca(adata_disease, svd_solver='arpack')\n",
        "\n",
        "# Visualize PCs\n",
        "sc.pl.pca_variance_ratio(adata_disease, log=True)"
      ]
    },
    {
      "cell_type": "code",
      "execution_count": 30,
      "metadata": {
        "id": "0QxYe37vyYyC"
      },
      "outputs": [],
      "source": [
        "# Save the principal components as a new adata attribute\n",
        "adata_disease.obsm['X_pca'] = adata_disease.obsm['X_pca'][:, :30]  # Keep the top 30 components"
      ]
    },
    {
      "cell_type": "code",
      "execution_count": 31,
      "metadata": {
        "colab": {
          "base_uri": "https://localhost:8080/",
          "height": 448
        },
        "id": "plc_ZrHyyNPq",
        "outputId": "3c108960-c653-4916-f7b0-a3db558877a4"
      },
      "outputs": [
        {
          "output_type": "display_data",
          "data": {
            "text/plain": [
              "<Figure size 640x480 with 1 Axes>"
            ],
            "image/png": "[encoded data removed]"
          },
          "metadata": {}
        }
      ],
      "source": [
        "# Compute neighborhood graph\n",
        "sc.pp.neighbors(adata_disease, n_pcs=23)\n",
        "\n",
        "# Cluster the cells\n",
        "sc.tl.umap(adata_disease, n_components=2)\n",
        "\n",
        "# Visualize clusters\n",
        "sc.pl.umap(adata_disease, color='organ__ontology_label')\n"
      ]
    },
    {
      "cell_type": "markdown",
      "metadata": {
        "id": "44uUleWQ18sX"
      },
      "source": [
        "Now that we've processed our data, let's get on to the machine learning!\n",
        "\n",
        "We'll need to create labels for our supervised learning model. For this, prior biological knowledge is necessary. So in our case, we'll use a publicly accessible dataset from [Open Targets](https://platform.opentargets.org/downloads/data) containing druggable targets and their associated metadata, to classify genes of interest in our EE scRNA-seq data as potential drug targets."
      ]
    },
    {
      "cell_type": "code",
      "execution_count": 32,
      "metadata": {
        "colab": {
          "base_uri": "https://localhost:8080/"
        },
        "id": "PCP2LJZoQ6ae",
        "outputId": "4d792a90-0c94-4f76-b230-ccfa9d0a0dd4"
      },
      "outputs": [
        {
          "output_type": "stream",
          "name": "stdout",
          "text": [
            "                id approvedSymbol         biotype  \\\n",
            "0  ENSG00000000971            CFH  protein_coding   \n",
            "1  ENSG00000007001           UPP2  protein_coding   \n",
            "2  ENSG00000009694          TENM1  protein_coding   \n",
            "3  ENSG00000011009         LYPLA2  protein_coding   \n",
            "4  ENSG00000019582           CD74  protein_coding   \n",
            "\n",
            "                                       transcriptIds  \\\n",
            "0  ['ENST00000359637' 'ENST00000695984' 'ENST0000...   \n",
            "1  ['ENST00000605860' 'ENST00000460456' 'ENST0000...   \n",
            "2  ['ENST00000422452' 'ENST00000371130' 'ENST0000...   \n",
            "3  ['ENST00000374503' 'ENST00000374501' 'ENST0000...   \n",
            "4  ['ENST00000518797' 'ENST00000523836' 'ENST0000...   \n",
            "\n",
            "                                 canonicalTranscript  \\\n",
            "0  {'id': 'ENST00000367429', 'chromosome': '1', '...   \n",
            "1  {'id': 'ENST00000005756', 'chromosome': '2', '...   \n",
            "2  {'id': 'ENST00000422452', 'chromosome': 'X', '...   \n",
            "3  {'id': 'ENST00000374514', 'chromosome': '1', '...   \n",
            "4  {'id': 'ENST00000009530', 'chromosome': '5', '...   \n",
            "\n",
            "                                      canonicalExons  \\\n",
            "0  ['196741875' '196742051' '196679623' '19667979...   \n",
            "1  ['158115101' '158115259' '158117824' '15811793...   \n",
            "2  ['124963537' '124963817' '124895981' '12489624...   \n",
            "3  ['23794682' '23795539' '23791145' '23791250' '...   \n",
            "4  ['150404680' '150404767' '150401639' '15040225...   \n",
            "\n",
            "                                     genomicLocation alternativeGenes  \\\n",
            "0  {'chromosome': '1', 'start': 196651754, 'end':...              NaN   \n",
            "1  {'chromosome': '2', 'start': 157876679, 'end':...              NaN   \n",
            "2  {'chromosome': 'X', 'start': 124375903, 'end':...              NaN   \n",
            "3  {'chromosome': '1', 'start': 23791110, 'end': ...              NaN   \n",
            "4  {'chromosome': '5', 'start': 150401637, 'end':...              NaN   \n",
            "\n",
            "                       approvedName  \\\n",
            "0               complement factor H   \n",
            "1           uridine phosphorylase 2   \n",
            "2  teneurin transmembrane protein 1   \n",
            "3               lysophospholipase 2   \n",
            "4                     CD74 molecule   \n",
            "\n",
            "                                                  go  ...  \\\n",
            "0  [{'id': 'GO:0005515', 'source': 'PMID:26538390...  ...   \n",
            "1  [{'id': 'GO:0005515', 'source': 'PMID:25416956...  ...   \n",
            "2  [{'id': 'GO:0005634', 'source': 'GO_REF:000002...  ...   \n",
            "3  [{'id': 'GO:0008474', 'source': 'PMID:28826475...  ...   \n",
            "4  [{'id': 'GO:0098553', 'source': 'Reactome:R-HS...  ...   \n",
            "\n",
            "                                       obsoleteNames  \\\n",
            "0  [{'label': 'H factor 1 (complement)', 'source'...   \n",
            "1                                                 []   \n",
            "2  [{'label': 'tenascin M', 'source': 'HGNC'}\\n {...   \n",
            "3  [{'label': 'lysophospholipase II', 'source': '...   \n",
            "4  [{'label': 'CD74 antigen (invariant polypeptid...   \n",
            "\n",
            "                                          constraint  tep  \\\n",
            "0  [{'constraintType': 'syn', 'score': -1.7637000...  NaN   \n",
            "1  [{'constraintType': 'syn', 'score': 0.46489000...  NaN   \n",
            "2  [{'constraintType': 'syn', 'score': 0.35791999...  NaN   \n",
            "3  [{'constraintType': 'syn', 'score': -0.3104099...  NaN   \n",
            "4  [{'constraintType': 'syn', 'score': 0.45719999...  NaN   \n",
            "\n",
            "                                          proteinIds  \\\n",
            "0  [{'id': 'P08603', 'source': 'uniprot_swissprot...   \n",
            "1  [{'id': 'O95045', 'source': 'uniprot_swissprot...   \n",
            "2  [{'id': 'Q9UKZ4', 'source': 'uniprot_swissprot...   \n",
            "3  [{'id': 'O95372', 'source': 'uniprot_swissprot...   \n",
            "4  [{'id': 'P04233', 'source': 'uniprot_swissprot...   \n",
            "\n",
            "                                             dbXrefs  \\\n",
            "0  [{'id': '4883', 'source': 'HGNC'} {'id': '1HAQ...   \n",
            "1  [{'id': '23061', 'source': 'HGNC'} {'id': '2XR...   \n",
            "2  [{'id': '8117', 'source': 'HGNC'}\\n {'id': 'IP...   \n",
            "3  [{'id': '6738', 'source': 'HGNC'} {'id': '5SYN...   \n",
            "4  [{'id': '1697', 'source': 'HGNC'} {'id': '1A6A...   \n",
            "\n",
            "                                      chemicalProbes  \\\n",
            "0                                                NaN   \n",
            "1                                                NaN   \n",
            "2                                                NaN   \n",
            "3  [{'control': None, 'drugId': 'CHEMBL1903566', ...   \n",
            "4                                                NaN   \n",
            "\n",
            "                                          homologues  \\\n",
            "0  [{'speciesId': '9606', 'speciesName': 'Human',...   \n",
            "1  [{'speciesId': '9606', 'speciesName': 'Human',...   \n",
            "2  [{'speciesId': '9606', 'speciesName': 'Human',...   \n",
            "3  [{'speciesId': '9606', 'speciesName': 'Human',...   \n",
            "4  [{'speciesId': '9598', 'speciesName': 'Chimpan...   \n",
            "\n",
            "                                        tractability safetyLiabilities  \\\n",
            "0  [{'modality': 'SM', 'id': 'Approved Drug', 'va...               NaN   \n",
            "1  [{'modality': 'SM', 'id': 'Approved Drug', 'va...               NaN   \n",
            "2  [{'modality': 'SM', 'id': 'Approved Drug', 'va...               NaN   \n",
            "3  [{'modality': 'SM', 'id': 'Approved Drug', 'va...               NaN   \n",
            "4  [{'modality': 'SM', 'id': 'Approved Drug', 'va...               NaN   \n",
            "\n",
            "                                            pathways  \n",
            "0  [{'pathwayId': 'R-HSA-977606', 'pathway': 'Reg...  \n",
            "1  [{'pathwayId': 'R-HSA-73621', 'pathway': 'Pyri...  \n",
            "2                                                NaN  \n",
            "3  [{'pathwayId': 'R-HSA-373760', 'pathway': 'L1C...  \n",
            "4  [{'pathwayId': 'R-HSA-2132295', 'pathway': 'MH...  \n",
            "\n",
            "[5 rows x 28 columns]\n"
          ]
        }
      ],
      "source": [
        "target_data = pd.read_csv(\n",
        "    \"/content/drive/MyDrive/Genspace/SCP1307/targets/merged-data\",\n",
        "    quotechar='\"',  # Specifies that double quotes enclose text\n",
        "    skipinitialspace=True,  # Skip spaces after delimiters\n",
        "    engine=\"python\",  # Use Python engine to better handle irregularities\n",
        "    on_bad_lines=\"skip\"  # Skip problematic rows automatically\n",
        ")\n",
        "\n",
        "print(target_data.head())"
      ]
    },
    {
      "cell_type": "code",
      "execution_count": 33,
      "metadata": {
        "colab": {
          "base_uri": "https://localhost:8080/",
          "height": 444
        },
        "id": "ii08QXiNT6qj",
        "outputId": "f09e4a4a-ee73-40b6-cc25-6ceb571e5665"
      },
      "outputs": [
        {
          "output_type": "execute_result",
          "data": {
            "text/plain": [
              "               mt  n_cells_by_counts  mean_counts  pct_dropout_by_counts  \\\n",
              "AC096579.7  False               2008     1.172315              92.438620   \n",
              "AL928768.3  False               1638     0.232791              93.831902   \n",
              "ALCAM       False               4098     0.215017              84.568459   \n",
              "ALDH1L2     False                877     0.055656              96.697545   \n",
              "AMPD1       False               1224     0.115078              95.390872   \n",
              "...           ...                ...          ...                    ...   \n",
              "TNFRSF17    False               1915     0.152094              92.788824   \n",
              "TP53INP1    False               4276     0.270749              83.898177   \n",
              "TRGC1       False               3697     0.356530              86.078476   \n",
              "TRGC2       False               5532     0.620236              79.168549   \n",
              "TRIB1       False               4639     0.487310              82.531255   \n",
              "\n",
              "            total_counts  highly_variable     means  dispersions  \\\n",
              "AC096579.7       31132.0             True  1.982855     4.127606   \n",
              "AL928768.3        6182.0             True  0.795876     2.862816   \n",
              "ALCAM             5710.0             True  0.264782     1.430680   \n",
              "ALDH1L2           1478.0             True  0.251933     1.618167   \n",
              "AMPD1             3056.0             True  0.483083     2.135597   \n",
              "...                  ...              ...       ...          ...   \n",
              "TNFRSF17          4039.0             True  0.599057     1.695308   \n",
              "TP53INP1          7190.0             True  0.757338     1.685331   \n",
              "TRGC1             9468.0             True  1.068939     2.093963   \n",
              "TRGC2            16471.0             True  1.431001     2.088961   \n",
              "TRIB1            12941.0             True  0.995272     2.780452   \n",
              "\n",
              "            dispersions_norm      mean       std  \n",
              "AC096579.7          2.299103  0.561546  1.272065  \n",
              "AL928768.3          3.960377  0.289746  0.736169  \n",
              "ALCAM               0.615715  0.129725  0.411769  \n",
              "ALDH1L2             1.362800  0.113319  0.403317  \n",
              "AMPD1               1.788758  0.194221  0.568216  \n",
              "...                      ...       ...       ...  \n",
              "TNFRSF17            0.781619  0.291208  0.645693  \n",
              "TP53INP1            0.649084  0.425064  0.708169  \n",
              "TRGC1               0.714352  0.561918  0.881413  \n",
              "TRGC2               0.889516  0.865101  1.018676  \n",
              "TRIB1               1.760776  0.367973  0.850563  \n",
              "\n",
              "[103 rows x 11 columns]"
            ],
            "text/html": [
              "\n",
              "  <div id=\"df-d74ff464-bb17-4b82-997e-5d597990384e\" class=\"colab-df-container\">\n",
              "    <div>\n",
              "<style scoped>\n",
              "    .dataframe tbody tr th:only-of-type {\n",
              "        vertical-align: middle;\n",
              "    }\n",
              "\n",
              "    .dataframe tbody tr th {\n",
              "        vertical-align: top;\n",
              "    }\n",
              "\n",
              "    .dataframe thead th {\n",
              "        text-align: right;\n",
              "    }\n",
              "</style>\n",
              "<table border=\"1\" class=\"dataframe\">\n",
              "  <thead>\n",
              "    <tr style=\"text-align: right;\">\n",
              "      <th></th>\n",
              "      <th>mt</th>\n",
              "      <th>n_cells_by_counts</th>\n",
              "      <th>mean_counts</th>\n",
              "      <th>pct_dropout_by_counts</th>\n",
              "      <th>total_counts</th>\n",
              "      <th>highly_variable</th>\n",
              "      <th>means</th>\n",
              "      <th>dispersions</th>\n",
              "      <th>dispersions_norm</th>\n",
              "      <th>mean</th>\n",
              "      <th>std</th>\n",
              "    </tr>\n",
              "  </thead>\n",
              "  <tbody>\n",
              "    <tr>\n",
              "      <th>AC096579.7</th>\n",
              "      <td>False</td>\n",
              "      <td>2008</td>\n",
              "      <td>1.172315</td>\n",
              "      <td>92.438620</td>\n",
              "      <td>31132.0</td>\n",
              "      <td>True</td>\n",
              "      <td>1.982855</td>\n",
              "      <td>4.127606</td>\n",
              "      <td>2.299103</td>\n",
              "      <td>0.561546</td>\n",
              "      <td>1.272065</td>\n",
              "    </tr>\n",
              "    <tr>\n",
              "      <th>AL928768.3</th>\n",
              "      <td>False</td>\n",
              "      <td>1638</td>\n",
              "      <td>0.232791</td>\n",
              "      <td>93.831902</td>\n",
              "      <td>6182.0</td>\n",
              "      <td>True</td>\n",
              "      <td>0.795876</td>\n",
              "      <td>2.862816</td>\n",
              "      <td>3.960377</td>\n",
              "      <td>0.289746</td>\n",
              "      <td>0.736169</td>\n",
              "    </tr>\n",
              "    <tr>\n",
              "      <th>ALCAM</th>\n",
              "      <td>False</td>\n",
              "      <td>4098</td>\n",
              "      <td>0.215017</td>\n",
              "      <td>84.568459</td>\n",
              "      <td>5710.0</td>\n",
              "      <td>True</td>\n",
              "      <td>0.264782</td>\n",
              "      <td>1.430680</td>\n",
              "      <td>0.615715</td>\n",
              "      <td>0.129725</td>\n",
              "      <td>0.411769</td>\n",
              "    </tr>\n",
              "    <tr>\n",
              "      <th>ALDH1L2</th>\n",
              "      <td>False</td>\n",
              "      <td>877</td>\n",
              "      <td>0.055656</td>\n",
              "      <td>96.697545</td>\n",
              "      <td>1478.0</td>\n",
              "      <td>True</td>\n",
              "      <td>0.251933</td>\n",
              "      <td>1.618167</td>\n",
              "      <td>1.362800</td>\n",
              "      <td>0.113319</td>\n",
              "      <td>0.403317</td>\n",
              "    </tr>\n",
              "    <tr>\n",
              "      <th>AMPD1</th>\n",
              "      <td>False</td>\n",
              "      <td>1224</td>\n",
              "      <td>0.115078</td>\n",
              "      <td>95.390872</td>\n",
              "      <td>3056.0</td>\n",
              "      <td>True</td>\n",
              "      <td>0.483083</td>\n",
              "      <td>2.135597</td>\n",
              "      <td>1.788758</td>\n",
              "      <td>0.194221</td>\n",
              "      <td>0.568216</td>\n",
              "    </tr>\n",
              "    <tr>\n",
              "      <th>...</th>\n",
              "      <td>...</td>\n",
              "      <td>...</td>\n",
              "      <td>...</td>\n",
              "      <td>...</td>\n",
              "      <td>...</td>\n",
              "      <td>...</td>\n",
              "      <td>...</td>\n",
              "      <td>...</td>\n",
              "      <td>...</td>\n",
              "      <td>...</td>\n",
              "      <td>...</td>\n",
              "    </tr>\n",
              "    <tr>\n",
              "      <th>TNFRSF17</th>\n",
              "      <td>False</td>\n",
              "      <td>1915</td>\n",
              "      <td>0.152094</td>\n",
              "      <td>92.788824</td>\n",
              "      <td>4039.0</td>\n",
              "      <td>True</td>\n",
              "      <td>0.599057</td>\n",
              "      <td>1.695308</td>\n",
              "      <td>0.781619</td>\n",
              "      <td>0.291208</td>\n",
              "      <td>0.645693</td>\n",
              "    </tr>\n",
              "    <tr>\n",
              "      <th>TP53INP1</th>\n",
              "      <td>False</td>\n",
              "      <td>4276</td>\n",
              "      <td>0.270749</td>\n",
              "      <td>83.898177</td>\n",
              "      <td>7190.0</td>\n",
              "      <td>True</td>\n",
              "      <td>0.757338</td>\n",
              "      <td>1.685331</td>\n",
              "      <td>0.649084</td>\n",
              "      <td>0.425064</td>\n",
              "      <td>0.708169</td>\n",
              "    </tr>\n",
              "    <tr>\n",
              "      <th>TRGC1</th>\n",
              "      <td>False</td>\n",
              "      <td>3697</td>\n",
              "      <td>0.356530</td>\n",
              "      <td>86.078476</td>\n",
              "      <td>9468.0</td>\n",
              "      <td>True</td>\n",
              "      <td>1.068939</td>\n",
              "      <td>2.093963</td>\n",
              "      <td>0.714352</td>\n",
              "      <td>0.561918</td>\n",
              "      <td>0.881413</td>\n",
              "    </tr>\n",
              "    <tr>\n",
              "      <th>TRGC2</th>\n",
              "      <td>False</td>\n",
              "      <td>5532</td>\n",
              "      <td>0.620236</td>\n",
              "      <td>79.168549</td>\n",
              "      <td>16471.0</td>\n",
              "      <td>True</td>\n",
              "      <td>1.431001</td>\n",
              "      <td>2.088961</td>\n",
              "      <td>0.889516</td>\n",
              "      <td>0.865101</td>\n",
              "      <td>1.018676</td>\n",
              "    </tr>\n",
              "    <tr>\n",
              "      <th>TRIB1</th>\n",
              "      <td>False</td>\n",
              "      <td>4639</td>\n",
              "      <td>0.487310</td>\n",
              "      <td>82.531255</td>\n",
              "      <td>12941.0</td>\n",
              "      <td>True</td>\n",
              "      <td>0.995272</td>\n",
              "      <td>2.780452</td>\n",
              "      <td>1.760776</td>\n",
              "      <td>0.367973</td>\n",
              "      <td>0.850563</td>\n",
              "    </tr>\n",
              "  </tbody>\n",
              "</table>\n",
              "<p>103 rows × 11 columns</p>\n",
              "</div>\n",
              "    <div class=\"colab-df-buttons\">\n",
              "\n",
              "  <div class=\"colab-df-container\">\n",
              "    <button class=\"colab-df-convert\" onclick=\"convertToInteractive('df-d74ff464-bb17-4b82-997e-5d597990384e')\"\n",
              "            title=\"Convert this dataframe to an interactive table.\"\n",
              "            style=\"display:none;\">\n",
              "\n",
              "  <svg xmlns=\"http://www.w3.org/2000/svg\" height=\"24px\" viewBox=\"0 -960 960 960\">\n",
              "    <path d=\"M120-120v-720h720v720H120Zm60-500h600v-160H180v160Zm220 220h160v-160H400v160Zm0 220h160v-160H400v160ZM180-400h160v-160H180v160Zm440 0h160v-160H620v160ZM180-180h160v-160H180v160Zm440 0h160v-160H620v160Z\"/>\n",
              "  </svg>\n",
              "    </button>\n",
              "\n",
              "  <style>\n",
              "    .colab-df-container {\n",
              "      display:flex;\n",
              "      gap: 12px;\n",
              "    }\n",
              "\n",
              "    .colab-df-convert {\n",
              "      background-color: #E8F0FE;\n",
              "      border: none;\n",
              "      border-radius: 50%;\n",
              "      cursor: pointer;\n",
              "      display: none;\n",
              "      fill: #1967D2;\n",
              "      height: 32px;\n",
              "      padding: 0 0 0 0;\n",
              "      width: 32px;\n",
              "    }\n",
              "\n",
              "    .colab-df-convert:hover {\n",
              "      background-color: #E2EBFA;\n",
              "      box-shadow: 0px 1px 2px rgba(60, 64, 67, 0.3), 0px 1px 3px 1px rgba(60, 64, 67, 0.15);\n",
              "      fill: #174EA6;\n",
              "    }\n",
              "\n",
              "    .colab-df-buttons div {\n",
              "      margin-bottom: 4px;\n",
              "    }\n",
              "\n",
              "    [theme=dark] .colab-df-convert {\n",
              "      background-color: #3B4455;\n",
              "      fill: #D2E3FC;\n",
              "    }\n",
              "\n",
              "    [theme=dark] .colab-df-convert:hover {\n",
              "      background-color: #434B5C;\n",
              "      box-shadow: 0px 1px 3px 1px rgba(0, 0, 0, 0.15);\n",
              "      filter: drop-shadow(0px 1px 2px rgba(0, 0, 0, 0.3));\n",
              "      fill: #FFFFFF;\n",
              "    }\n",
              "  </style>\n",
              "\n",
              "    <script>\n",
              "      const buttonEl =\n",
              "        document.querySelector('#df-d74ff464-bb17-4b82-997e-5d597990384e button.colab-df-convert');\n",
              "      buttonEl.style.display =\n",
              "        google.colab.kernel.accessAllowed ? 'block' : 'none';\n",
              "\n",
              "      async function convertToInteractive(key) {\n",
              "        const element = document.querySelector('#df-d74ff464-bb17-4b82-997e-5d597990384e');\n",
              "        const dataTable =\n",
              "          await google.colab.kernel.invokeFunction('convertToInteractive',\n",
              "                                                    [key], {});\n",
              "        if (!dataTable) return;\n",
              "\n",
              "        const docLinkHtml = 'Like what you see? Visit the ' +\n",
              "          '<a target=\"_blank\" href=https://colab.research.google.com/notebooks/data_table.ipynb>data table notebook</a>'\n",
              "          + ' to learn more about interactive tables.';\n",
              "        element.innerHTML = '';\n",
              "        dataTable['output_type'] = 'display_data';\n",
              "        await google.colab.output.renderOutput(dataTable, element);\n",
              "        const docLink = document.createElement('div');\n",
              "        docLink.innerHTML = docLinkHtml;\n",
              "        element.appendChild(docLink);\n",
              "      }\n",
              "    </script>\n",
              "  </div>\n",
              "\n",
              "\n",
              "<div id=\"df-95f33b9e-493d-4ba4-97f7-ca7a2df13717\">\n",
              "  <button class=\"colab-df-quickchart\" onclick=\"quickchart('df-95f33b9e-493d-4ba4-97f7-ca7a2df13717')\"\n",
              "            title=\"Suggest charts\"\n",
              "            style=\"display:none;\">\n",
              "\n",
              "<svg xmlns=\"http://www.w3.org/2000/svg\" height=\"24px\"viewBox=\"0 0 24 24\"\n",
              "     width=\"24px\">\n",
              "    <g>\n",
              "        <path d=\"M19 3H5c-1.1 0-2 .9-2 2v14c0 1.1.9 2 2 2h14c1.1 0 2-.9 2-2V5c0-1.1-.9-2-2-2zM9 17H7v-7h2v7zm4 0h-2V7h2v10zm4 0h-2v-4h2v4z\"/>\n",
              "    </g>\n",
              "</svg>\n",
              "  </button>\n",
              "\n",
              "<style>\n",
              "  .colab-df-quickchart {\n",
              "      --bg-color: #E8F0FE;\n",
              "      --fill-color: #1967D2;\n",
              "      --hover-bg-color: #E2EBFA;\n",
              "      --hover-fill-color: #174EA6;\n",
              "      --disabled-fill-color: #AAA;\n",
              "      --disabled-bg-color: #DDD;\n",
              "  }\n",
              "\n",
              "  [theme=dark] .colab-df-quickchart {\n",
              "      --bg-color: #3B4455;\n",
              "      --fill-color: #D2E3FC;\n",
              "      --hover-bg-color: #434B5C;\n",
              "      --hover-fill-color: #FFFFFF;\n",
              "      --disabled-bg-color: #3B4455;\n",
              "      --disabled-fill-color: #666;\n",
              "  }\n",
              "\n",
              "  .colab-df-quickchart {\n",
              "    background-color: var(--bg-color);\n",
              "    border: none;\n",
              "    border-radius: 50%;\n",
              "    cursor: pointer;\n",
              "    display: none;\n",
              "    fill: var(--fill-color);\n",
              "    height: 32px;\n",
              "    padding: 0;\n",
              "    width: 32px;\n",
              "  }\n",
              "\n",
              "  .colab-df-quickchart:hover {\n",
              "    background-color: var(--hover-bg-color);\n",
              "    box-shadow: 0 1px 2px rgba(60, 64, 67, 0.3), 0 1px 3px 1px rgba(60, 64, 67, 0.15);\n",
              "    fill: var(--button-hover-fill-color);\n",
              "  }\n",
              "\n",
              "  .colab-df-quickchart-complete:disabled,\n",
              "  .colab-df-quickchart-complete:disabled:hover {\n",
              "    background-color: var(--disabled-bg-color);\n",
              "    fill: var(--disabled-fill-color);\n",
              "    box-shadow: none;\n",
              "  }\n",
              "\n",
              "  .colab-df-spinner {\n",
              "    border: 2px solid var(--fill-color);\n",
              "    border-color: transparent;\n",
              "    border-bottom-color: var(--fill-color);\n",
              "    animation:\n",
              "      spin 1s steps(1) infinite;\n",
              "  }\n",
              "\n",
              "  @keyframes spin {\n",
              "    0% {\n",
              "      border-color: transparent;\n",
              "      border-bottom-color: var(--fill-color);\n",
              "      border-left-color: var(--fill-color);\n",
              "    }\n",
              "    20% {\n",
              "      border-color: transparent;\n",
              "      border-left-color: var(--fill-color);\n",
              "      border-top-color: var(--fill-color);\n",
              "    }\n",
              "    30% {\n",
              "      border-color: transparent;\n",
              "      border-left-color: var(--fill-color);\n",
              "      border-top-color: var(--fill-color);\n",
              "      border-right-color: var(--fill-color);\n",
              "    }\n",
              "    40% {\n",
              "      border-color: transparent;\n",
              "      border-right-color: var(--fill-color);\n",
              "      border-top-color: var(--fill-color);\n",
              "    }\n",
              "    60% {\n",
              "      border-color: transparent;\n",
              "      border-right-color: var(--fill-color);\n",
              "    }\n",
              "    80% {\n",
              "      border-color: transparent;\n",
              "      border-right-color: var(--fill-color);\n",
              "      border-bottom-color: var(--fill-color);\n",
              "    }\n",
              "    90% {\n",
              "      border-color: transparent;\n",
              "      border-bottom-color: var(--fill-color);\n",
              "    }\n",
              "  }\n",
              "</style>\n",
              "\n",
              "  <script>\n",
              "    async function quickchart(key) {\n",
              "      const quickchartButtonEl =\n",
              "        document.querySelector('#' + key + ' button');\n",
              "      quickchartButtonEl.disabled = true;  // To prevent multiple clicks.\n",
              "      quickchartButtonEl.classList.add('colab-df-spinner');\n",
              "      try {\n",
              "        const charts = await google.colab.kernel.invokeFunction(\n",
              "            'suggestCharts', [key], {});\n",
              "      } catch (error) {\n",
              "        console.error('Error during call to suggestCharts:', error);\n",
              "      }\n",
              "      quickchartButtonEl.classList.remove('colab-df-spinner');\n",
              "      quickchartButtonEl.classList.add('colab-df-quickchart-complete');\n",
              "    }\n",
              "    (() => {\n",
              "      let quickchartButtonEl =\n",
              "        document.querySelector('#df-95f33b9e-493d-4ba4-97f7-ca7a2df13717 button');\n",
              "      quickchartButtonEl.style.display =\n",
              "        google.colab.kernel.accessAllowed ? 'block' : 'none';\n",
              "    })();\n",
              "  </script>\n",
              "</div>\n",
              "\n",
              "    </div>\n",
              "  </div>\n"
            ],
            "application/vnd.google.colaboratory.intrinsic+json": {
              "type": "dataframe",
              "summary": "{\n  \"name\": \"adata_disease\",\n  \"rows\": 103,\n  \"fields\": [\n    {\n      \"column\": \"mt\",\n      \"properties\": {\n        \"dtype\": \"boolean\",\n        \"num_unique_values\": 1,\n        \"samples\": [\n          false\n        ],\n        \"semantic_type\": \"\",\n        \"description\": \"\"\n      }\n    },\n    {\n      \"column\": \"n_cells_by_counts\",\n      \"properties\": {\n        \"dtype\": \"number\",\n        \"std\": 4057,\n        \"min\": 634,\n        \"max\": 23574,\n        \"num_unique_values\": 102,\n        \"samples\": [\n          14550\n        ],\n        \"semantic_type\": \"\",\n        \"description\": \"\"\n      }\n    },\n    {\n      \"column\": \"mean_counts\",\n      \"properties\": {\n        \"dtype\": \"number\",\n        \"std\": 3.402748664293724,\n        \"min\": 0.049292062057538784,\n        \"max\": 27.240774212983883,\n        \"num_unique_values\": 102,\n        \"samples\": [\n          11.449728874830546\n        ],\n        \"semantic_type\": \"\",\n        \"description\": \"\"\n      }\n    },\n    {\n      \"column\": \"pct_dropout_by_counts\",\n      \"properties\": {\n        \"dtype\": \"number\",\n        \"std\": 15.27732101035349,\n        \"min\": 11.229100768187983,\n        \"max\": 97.61259225787016,\n        \"num_unique_values\": 102,\n        \"samples\": [\n          45.21012200632626\n        ],\n        \"semantic_type\": \"\",\n        \"description\": \"\"\n      }\n    },\n    {\n      \"column\": \"total_counts\",\n      \"properties\": {\n        \"dtype\": \"number\",\n        \"std\": 90363.39352898416,\n        \"min\": 1309.0,\n        \"max\": 723406.0,\n        \"num_unique_values\": 102,\n        \"samples\": [\n          304059.0\n        ],\n        \"semantic_type\": \"\",\n        \"description\": \"\"\n      }\n    },\n    {\n      \"column\": \"highly_variable\",\n      \"properties\": {\n        \"dtype\": \"boolean\",\n        \"num_unique_values\": 1,\n        \"samples\": [\n          true\n        ],\n        \"semantic_type\": \"\",\n        \"description\": \"\"\n      }\n    },\n    {\n      \"column\": \"means\",\n      \"properties\": {\n        \"dtype\": \"number\",\n        \"std\": 0.5604299662956015,\n        \"min\": 0.1809797505976786,\n        \"max\": 2.9046000479505647,\n        \"num_unique_values\": 103,\n        \"samples\": [\n          0.45141718131638287\n        ],\n        \"semantic_type\": \"\",\n        \"description\": \"\"\n      }\n    },\n    {\n      \"column\": \"dispersions\",\n      \"properties\": {\n        \"dtype\": \"number\",\n        \"std\": 1.0938527077844957,\n        \"min\": 1.4024693705114948,\n        \"max\": 7.351695413215274,\n        \"num_unique_values\": 103,\n        \"samples\": [\n          1.7235255996935017\n        ],\n        \"semantic_type\": \"\",\n        \"description\": \"\"\n      }\n    },\n    {\n      \"column\": \"dispersions_norm\",\n      \"properties\": {\n        \"dtype\": \"float32\",\n        \"num_unique_values\": 102,\n        \"samples\": [\n          0.8461641073226929\n        ],\n        \"semantic_type\": \"\",\n        \"description\": \"\"\n      }\n    },\n    {\n      \"column\": \"mean\",\n      \"properties\": {\n        \"dtype\": \"number\",\n        \"std\": 0.3366388830989627,\n        \"min\": 0.08777061087483269,\n        \"max\": 2.5727840695095328,\n        \"num_unique_values\": 103,\n        \"samples\": [\n          0.2281848501717115\n        ],\n        \"semantic_type\": \"\",\n        \"description\": \"\"\n      }\n    },\n    {\n      \"column\": \"std\",\n      \"properties\": {\n        \"dtype\": \"number\",\n        \"std\": 0.23184413380643473,\n        \"min\": 0.33701166701516866,\n        \"max\": 1.3104185051900539,\n        \"num_unique_values\": 103,\n        \"samples\": [\n          0.5418099433819573\n        ],\n        \"semantic_type\": \"\",\n        \"description\": \"\"\n      }\n    }\n  ]\n}"
            }
          },
          "metadata": {},
          "execution_count": 33
        }
      ],
      "source": [
        "adata_disease.var"
      ]
    },
    {
      "cell_type": "code",
      "execution_count": 34,
      "metadata": {
        "colab": {
          "base_uri": "https://localhost:8080/"
        },
        "id": "a4IjwG8yI2o_",
        "outputId": "016fae1a-c0f3-4fa1-9704-6291ab24eee7"
      },
      "outputs": [
        {
          "output_type": "stream",
          "name": "stdout",
          "text": [
            "               mt  n_cells_by_counts  mean_counts  pct_dropout_by_counts  \\\n",
            "AC096579.7  False               2008     1.172315              92.438620   \n",
            "AL928768.3  False               1638     0.232791              93.831902   \n",
            "ALCAM       False               4098     0.215017              84.568459   \n",
            "ALDH1L2     False                877     0.055656              96.697545   \n",
            "AMPD1       False               1224     0.115078              95.390872   \n",
            "\n",
            "            total_counts  highly_variable     means  dispersions  \\\n",
            "AC096579.7       31132.0             True  1.982855     4.127606   \n",
            "AL928768.3        6182.0             True  0.795876     2.862816   \n",
            "ALCAM             5710.0             True  0.264782     1.430680   \n",
            "ALDH1L2           1478.0             True  0.251933     1.618167   \n",
            "AMPD1             3056.0             True  0.483083     2.135597   \n",
            "\n",
            "            dispersions_norm      mean       std  is_target  \n",
            "AC096579.7          2.299103  0.561546  1.272065          0  \n",
            "AL928768.3          3.960377  0.289746  0.736169          0  \n",
            "ALCAM               0.615715  0.129725  0.411769          0  \n",
            "ALDH1L2             1.362800  0.113319  0.403317          0  \n",
            "AMPD1               1.788758  0.194221  0.568216          0  \n"
          ]
        }
      ],
      "source": [
        "# Extract the column containing gene names from target_data\n",
        "target_genes = target_data['approvedSymbol'].unique()\n",
        "\n",
        "# Add a new column 'is_target' to adata.var\n",
        "adata_disease.var['is_target'] = adata_disease.var.index.isin(target_genes).astype(int)\n",
        "\n",
        "# Verify the integration and labels\n",
        "print(adata_disease.var.head())"
      ]
    },
    {
      "cell_type": "code",
      "source": [
        "na_columns = adata_disease.var.isna().any()\n",
        "print(na_columns)"
      ],
      "metadata": {
        "colab": {
          "base_uri": "https://localhost:8080/"
        },
        "id": "g53Qg61y-lhd",
        "outputId": "92916937-7446-4841-d8ea-0344d0112145"
      },
      "execution_count": 50,
      "outputs": [
        {
          "output_type": "stream",
          "name": "stdout",
          "text": [
            "mt                       False\n",
            "n_cells_by_counts        False\n",
            "mean_counts              False\n",
            "pct_dropout_by_counts    False\n",
            "total_counts             False\n",
            "highly_variable          False\n",
            "means                    False\n",
            "dispersions              False\n",
            "dispersions_norm         False\n",
            "mean                     False\n",
            "std                      False\n",
            "is_target                False\n",
            "dtype: bool\n"
          ]
        }
      ]
    },
    {
      "cell_type": "markdown",
      "metadata": {
        "id": "9MwnE0X-M330"
      },
      "source": [
        "Now that we've used the drug-target information to label druggable targets in our data appropriately, let's prepare our features and labels for machine learning.\n",
        "\n",
        "Note: The dimensions of `adata_filtered.obsm['X_pca']` need to align with those of `adata.var['is_target'].`\n",
        "\n",
        "- adata.obsm['X_pca'] is a matrix with dimensions (n_cells, n_pcs), where n_cells is the number of cells and n_pcs is the number of principal components.\n",
        "- adata.var['is_target'] is a vector with length n_genes, representing annotations for genes."
      ]
    },
    {
      "cell_type": "code",
      "execution_count": 35,
      "metadata": {
        "id": "y-P8r5Zfysgo"
      },
      "outputs": [],
      "source": [
        "# Features: Highly variable disease-specific genes (to minimize noise)\n",
        "X = adata_disease.X.T\n",
        "\n",
        "# Labels: Gene targets\n",
        "y = adata_disease.var['is_target'].values\n"
      ]
    },
    {
      "cell_type": "code",
      "execution_count": 36,
      "metadata": {
        "colab": {
          "base_uri": "https://localhost:8080/"
        },
        "id": "UEMCv6tvhwBs",
        "outputId": "8aa6b697-91dc-4705-e438-f8f85a0be99b"
      },
      "outputs": [
        {
          "output_type": "stream",
          "name": "stdout",
          "text": [
            "Features (X): (103, 9955)\n",
            "Labels (y): (103,)\n"
          ]
        }
      ],
      "source": [
        "print(f\"Features (X): {X.shape}\")\n",
        "print(f\"Labels (y): {y.shape}\")\n"
      ]
    },
    {
      "cell_type": "markdown",
      "metadata": {
        "id": "PL-kmj6fftd5"
      },
      "source": [
        ":Now to build a Random Forest Classifier. This algorithm uses Decision Trees to classify data into binary categories. In our case, it will predict whether a gene is druggable (a target) or not.\n",
        "\n",
        "We'll evaluate our model using appropriate metrics for classification tasks since your labels (y) are binary (1 for target, 0 for non-target). Common metrics include:\n",
        "- Accuracy\n",
        "- Precision\n",
        "- Recall\n",
        "- F-1 score (useful for imbalanced datasets)\n",
        "- ROC-AUC"
      ]
    },
    {
      "cell_type": "code",
      "execution_count": 38,
      "metadata": {
        "id": "5CbApi-z0h3W"
      },
      "outputs": [],
      "source": [
        "from sklearn.model_selection import train_test_split\n",
        "from sklearn.ensemble import RandomForestClassifier\n",
        "from sklearn.metrics import classification_report\n",
        "\n",
        "# Split the data\n",
        "X_train, X_test, y_train, y_test = train_test_split(X, y, test_size=0.2, random_state=42)\n",
        "\n",
        "# Train the model\n",
        "clf = RandomForestClassifier(random_state=42) # Instantiate\n",
        "clf.fit(X_train, y_train) # Train\n",
        "\n",
        "# Predict the test labels\n",
        "y_pred = clf.predict(X_test)\n",
        "\n",
        "# Predict probabilities for ROC-AUC or threshold adjustments\n",
        "y_prob = clf.predict_proba(X_test)[:, 1]\n"
      ]
    },
    {
      "cell_type": "code",
      "source": [
        "y_pred"
      ],
      "metadata": {
        "colab": {
          "base_uri": "https://localhost:8080/"
        },
        "id": "tuOxdlCzxKov",
        "outputId": "a7842f7b-7ffd-47c6-e3cd-1fe9c7cb5dfb"
      },
      "execution_count": 40,
      "outputs": [
        {
          "output_type": "execute_result",
          "data": {
            "text/plain": [
              "array([0, 0, 0, 0, 0, 0, 0, 0, 0, 0, 0, 0, 0, 0, 0, 0, 0, 0, 0, 0, 0])"
            ]
          },
          "metadata": {},
          "execution_count": 40
        }
      ]
    },
    {
      "cell_type": "code",
      "source": [
        "from sklearn.metrics import accuracy_score, precision_score, recall_score, f1_score\n",
        "\n",
        "# Evaluate model performance\n",
        "accuracy = accuracy_score(y_test, y_pred)\n",
        "precision = precision_score(y_test, y_pred)\n",
        "recall = recall_score(y_test, y_pred)\n",
        "f1 = f1_score(y_test, y_pred)\n",
        "\n",
        "print(f\"Accuracy: {accuracy:.2f}\")\n",
        "print(f\"Precision: {precision:.2f}\")\n",
        "print(f\"Recall: {recall:.2f}\")\n",
        "print(f\"F1-Score: {f1:.2f}\")\n"
      ],
      "metadata": {
        "colab": {
          "base_uri": "https://localhost:8080/"
        },
        "id": "j3cRTOA8xFat",
        "outputId": "639d17be-d1c0-4752-b4dc-911aceeb4047"
      },
      "execution_count": 41,
      "outputs": [
        {
          "output_type": "stream",
          "name": "stdout",
          "text": [
            "Accuracy: 0.86\n",
            "Precision: 0.00\n",
            "Recall: 0.00\n",
            "F1-Score: 0.00\n"
          ]
        },
        {
          "output_type": "stream",
          "name": "stderr",
          "text": [
            "/usr/local/lib/python3.10/dist-packages/sklearn/metrics/_classification.py:1565: UndefinedMetricWarning: Precision is ill-defined and being set to 0.0 due to no predicted samples. Use `zero_division` parameter to control this behavior.\n",
            "  _warn_prf(average, modifier, f\"{metric.capitalize()} is\", len(result))\n"
          ]
        }
      ]
    },
    {
      "cell_type": "code",
      "source": [
        "from sklearn.metrics import roc_auc_score, roc_curve\n",
        "import matplotlib.pyplot as plt\n",
        "\n",
        "# Compute ROC-AUC\n",
        "roc_auc = roc_auc_score(y_test, y_prob)\n",
        "print(f\"ROC-AUC: {roc_auc:.2f}\")\n",
        "\n",
        "# Plot the ROC Curve\n",
        "fpr, tpr, _ = roc_curve(y_test, y_prob)\n",
        "plt.plot(fpr, tpr, label=f\"ROC Curve (AUC = {roc_auc:.2f})\")\n",
        "plt.plot([0, 1], [0, 1], linestyle=\"--\", color=\"gray\")  # Diagonal line for random guessing\n",
        "plt.xlabel(\"False Positive Rate\")\n",
        "plt.ylabel(\"True Positive Rate\")\n",
        "plt.title(\"ROC Curve\")\n",
        "plt.legend()\n",
        "plt.show()"
      ],
      "metadata": {
        "colab": {
          "base_uri": "https://localhost:8080/",
          "height": 490
        },
        "id": "zdTPHxtcxZi9",
        "outputId": "746f8d7e-fdc2-4729-b785-217710c89743"
      },
      "execution_count": 42,
      "outputs": [
        {
          "output_type": "stream",
          "name": "stdout",
          "text": [
            "ROC-AUC: 0.62\n"
          ]
        },
        {
          "output_type": "display_data",
          "data": {
            "text/plain": [
              "<Figure size 640x480 with 1 Axes>"
            ],
            "image/png": "[encoded data removed]"
          },
          "metadata": {}
        }
      ]
    },
    {
      "cell_type": "code",
      "execution_count": 43,
      "metadata": {
        "id": "ImMGCuypjYbM",
        "colab": {
          "base_uri": "https://localhost:8080/"
        },
        "outputId": "8812d72e-7634-411a-f795-492705f4a9e9"
      },
      "outputs": [
        {
          "output_type": "stream",
          "name": "stdout",
          "text": [
            "Top 10 Important Features:\n",
            "Feature 7309: Importance 0.0184\n",
            "Feature 8476: Importance 0.0162\n",
            "Feature 9582: Importance 0.0142\n",
            "Feature 9484: Importance 0.0091\n",
            "Feature 8275: Importance 0.0088\n",
            "Feature 7929: Importance 0.0086\n",
            "Feature 7443: Importance 0.0078\n",
            "Feature 8517: Importance 0.0074\n",
            "Feature 8866: Importance 0.0072\n",
            "Feature 8930: Importance 0.0069\n"
          ]
        }
      ],
      "source": [
        "import numpy as np\n",
        "\n",
        "# Extract feature importances\n",
        "importances = clf.feature_importances_\n",
        "\n",
        "# Sort features by importance\n",
        "indices = np.argsort(importances)[::-1]\n",
        "\n",
        "# Print top 10 important features\n",
        "print(\"Top 10 Important Features:\")\n",
        "for i in range(10):\n",
        "    print(f\"Feature {indices[i]}: Importance {importances[indices[i]]:.4f}\")\n"
      ]
    },
    {
      "cell_type": "code",
      "source": [
        "# Extract gene names\n",
        "gene_names = adata_disease.var.index.tolist()\n"
      ],
      "metadata": {
        "id": "YTh4xY1d_YfQ"
      },
      "execution_count": 51,
      "outputs": []
    },
    {
      "cell_type": "code",
      "source": [
        "# Map feature indices to gene names\n",
        "top_features = [7309, 8476, 9582, 9484, 8275, 7929, 7443, 8517, 8866, 8930]\n",
        "\n",
        "# Map indices to gene names\n",
        "feature_names = adata.var.index[top_features]\n",
        "\n",
        "# Print the results\n",
        "for idx, gene in zip(top_features, feature_names):\n",
        "    print(f\"Feature {idx}: {gene}\")"
      ],
      "metadata": {
        "colab": {
          "base_uri": "https://localhost:8080/"
        },
        "id": "7yyyCxA0_dc1",
        "outputId": "94462946-379c-451c-b2d5-2a77b1277fe6"
      },
      "execution_count": 54,
      "outputs": [
        {
          "output_type": "stream",
          "name": "stdout",
          "text": [
            "Feature 7309: GLMN\n",
            "Feature 8476: IL17RA\n",
            "Feature 9582: LINC00598\n",
            "Feature 9484: LINC00106\n",
            "Feature 8275: HYAL2\n",
            "Feature 7929: HID1\n",
            "Feature 7443: GPATCH1\n",
            "Feature 8517: IL7\n",
            "Feature 8866: KCNJ12\n",
            "Feature 8930: KCTD7\n"
          ]
        }
      ]
    },
    {
      "cell_type": "markdown",
      "source": [
        "The importance score of a feature measures how much that feature (gene) contributed to the predictions made by the model."
      ],
      "metadata": {
        "id": "M1Ir_BvRAGSV"
      }
    },
    {
      "cell_type": "code",
      "execution_count": 45,
      "metadata": {
        "id": "jPE3rVKcgDLb",
        "colab": {
          "base_uri": "https://localhost:8080/"
        },
        "outputId": "762dd8fb-bccb-423b-c47f-fb4800c03ff5"
      },
      "outputs": [
        {
          "output_type": "stream",
          "name": "stdout",
          "text": [
            "Predicted Drug Targets: Index([], dtype='object')\n"
          ]
        }
      ],
      "source": [
        "# Get indices of genes predicted as targets\n",
        "predicted_targets_indices = np.where(y_pred == 1)[0]\n",
        "\n",
        "# Map indices to gene names\n",
        "predicted_targets = adata_disease.var.index[predicted_targets_indices]\n",
        "\n",
        "print(f\"Predicted Drug Targets: {predicted_targets}\")"
      ]
    },
    {
      "cell_type": "markdown",
      "source": [
        "In conclusion, in this case, ML might seem unnecessary because we already have the ground truth (the known drug targets) and could base our conclusions on that alone.\n",
        "\n",
        "But ML adds value when you want to go beyond your labeled data; for example, to discover novel targets not included in the list of known targets.\n",
        "\n",
        "Also, instead of manually inspecting thousands of genes, ML can systematically rank or classify genes based on their likelihood of being drug targets. This is useful for massive datasets will millions and billions of features.\n",
        "\n",
        "Use cases for ML in this project include:\n",
        "\n",
        "1. Rank Novel Drug Targets:\n",
        "Predict which unlabeled genes have a high likelihood of being drug targets.\n",
        "Sort and rank genes for prioritization based on their model-predicted probabilities.\n",
        "\n",
        "2. Feature Importance Analysis:\n",
        "Use ML models (e.g., Random Forest) to identify which features (e.g., expression variability, disease specificity) are most important for predicting drug targets.\n",
        "\n",
        "\n",
        "3. Handle Data Noise:\n",
        "scRNA-seq data is noisy, and manual methods might miss subtle patterns. ML can help filter noise and identify robust patterns.\n",
        "\n",
        "4. Integrate Multi-Omics Data:\n",
        "If you have additional data types (e.g., protein-protein interactions or genetic variants), ML models can integrate them with expression data to improve predictions"
      ],
      "metadata": {
        "id": "d5iAyAtT9Hbq"
      }
    },
    {
      "cell_type": "code",
      "source": [],
      "metadata": {
        "id": "5bXjbQ24-Dm5"
      },
      "execution_count": null,
      "outputs": []
    }
  ],
  "metadata": {
    "colab": {
      "machine_shape": "hm",
      "provenance": [],
      "authorship_tag": "ABX9TyMrK8Gi5/DeCW9Kkovs6cf5"
    },
    "kernelspec": {
      "display_name": "Python 3",
      "name": "python3"
    },
    "language_info": {
      "name": "python"
    }
  },
  "nbformat": 4,
  "nbformat_minor": 0
}